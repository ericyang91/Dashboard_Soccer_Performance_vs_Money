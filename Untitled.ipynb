{
 "cells": [
  {
   "cell_type": "code",
   "execution_count": 47,
   "id": "cdc00df2",
   "metadata": {},
   "outputs": [],
   "source": [
    "import lxml\n",
    "import pandas as pd\n",
    "from bs4 import BeautifulSoup\n",
    "from splinter import Browser\n",
    "from pprint import pprint"
   ]
  },
  {
   "cell_type": "code",
   "execution_count": 19,
   "id": "e8dc3d53",
   "metadata": {},
   "outputs": [],
   "source": [
    "url = 'https://www.transfermarkt.com/vereins-statistik/wertvollstemannschaften/marktwertetop/plus/0/galerie/0?land_id=189&kontinent_id=6&yt0=Show'"
   ]
  },
  {
   "cell_type": "code",
   "execution_count": 20,
   "id": "8520947d",
   "metadata": {},
   "outputs": [],
   "source": [
    "browser = Browser('chrome', headless = True)"
   ]
  },
  {
   "cell_type": "code",
   "execution_count": 21,
   "id": "6415c203",
   "metadata": {},
   "outputs": [],
   "source": [
    "browser.visit(url)"
   ]
  },
  {
   "cell_type": "code",
   "execution_count": 22,
   "id": "985bdd48",
   "metadata": {},
   "outputs": [],
   "source": [
    "html = browser.html"
   ]
  },
  {
   "cell_type": "code",
   "execution_count": 23,
   "id": "c3d417c6",
   "metadata": {},
   "outputs": [],
   "source": [
    "soup = BeautifulSoup(html, 'html.parser')"
   ]
  },
  {
   "cell_type": "code",
   "execution_count": 27,
   "id": "6c0e1d67",
   "metadata": {},
   "outputs": [],
   "source": [
    "div_main = soup.find('div', {'id':'main'})"
   ]
  },
  {
   "cell_type": "code",
   "execution_count": 29,
   "id": "fdedc653",
   "metadata": {},
   "outputs": [],
   "source": [
    "div_row = div_main.find('div', {'class':'row'})"
   ]
  },
  {
   "cell_type": "code",
   "execution_count": 31,
   "id": "52165fd7",
   "metadata": {},
   "outputs": [],
   "source": [
    "div_box = div_row.find('div', {'class':'box'})"
   ]
  },
  {
   "cell_type": "code",
   "execution_count": 35,
   "id": "ca3eaebe",
   "metadata": {},
   "outputs": [],
   "source": [
    "div_responsive_table = div_box.find('div', {'class':'responsive-table'})"
   ]
  },
  {
   "cell_type": "code",
   "execution_count": 37,
   "id": "0e6b1624",
   "metadata": {},
   "outputs": [],
   "source": [
    "div_yw = div_responsive_table.find('div', {'id':'yw1'})"
   ]
  },
  {
   "cell_type": "code",
   "execution_count": 39,
   "id": "f704d993",
   "metadata": {},
   "outputs": [],
   "source": [
    "div_items = div_yw.find('table', {'class':'items'})"
   ]
  },
  {
   "cell_type": "code",
   "execution_count": 40,
   "id": "c9f30a07",
   "metadata": {},
   "outputs": [
    {
     "ename": "SyntaxError",
     "evalue": "invalid syntax (161639955.py, line 1)",
     "output_type": "error",
     "traceback": [
      "\u001b[1;36m  Input \u001b[1;32mIn [40]\u001b[1;36m\u001b[0m\n\u001b[1;33m    div_items.find('tr', 'class':'odd')\u001b[0m\n\u001b[1;37m                                ^\u001b[0m\n\u001b[1;31mSyntaxError\u001b[0m\u001b[1;31m:\u001b[0m invalid syntax\n"
     ]
    }
   ],
   "source": [
    "div_items.find('tr', 'class':'odd')"
   ]
  },
  {
   "cell_type": "code",
   "execution_count": 41,
   "id": "303edea9",
   "metadata": {},
   "outputs": [
    {
     "data": {
      "text/plain": [
       "<table class=\"auflistung\">\n",
       "<tbody>\n",
       "<tr>\n",
       "<td>Nationality:</td>\n",
       "<td>\n",
       "<div class=\"inline-select\">\n",
       "<select class=\"chzn-select chzn-done\" data-placeholder=\"\" id=\"selATN\" name=\"land_id\" style=\"display: none;\" tabindex=\"-1\">\n",
       "<option value=\"0\">All</option>\n",
       "<option value=\"1\">Afghanistan</option>\n",
       "<option value=\"3\">Albania</option>\n",
       "<option value=\"4\">Algeria</option>\n",
       "<option value=\"239\">American Samoa</option>\n",
       "<option value=\"234\">American Virgin Islands</option>\n",
       "<option value=\"5\">Andorra</option>\n",
       "<option value=\"6\">Angola</option>\n",
       "<option value=\"232\">Anguilla</option>\n",
       "<option value=\"7\">Antigua and Barbuda</option>\n",
       "<option value=\"9\">Argentina</option>\n",
       "<option value=\"10\">Armenia</option>\n",
       "<option value=\"233\">Aruba</option>\n",
       "<option value=\"12\">Australia</option>\n",
       "<option value=\"127\">Austria</option>\n",
       "<option value=\"13\">Azerbaijan</option>\n",
       "<option value=\"14\">Bahamas</option>\n",
       "<option value=\"15\">Bahrain</option>\n",
       "<option value=\"16\">Bangladesh</option>\n",
       "<option value=\"17\">Barbados</option>\n",
       "<option value=\"18\">Belarus</option>\n",
       "<option value=\"19\">Belgium</option>\n",
       "<option value=\"20\">Belize</option>\n",
       "<option value=\"21\">Benin</option>\n",
       "<option value=\"211\">Bermuda</option>\n",
       "<option value=\"22\">Bhutan</option>\n",
       "<option value=\"23\">Bolivia</option>\n",
       "<option value=\"269\">Bonaire</option>\n",
       "<option value=\"24\">Bosnia-Herzegovina</option>\n",
       "<option value=\"25\">Botsuana</option>\n",
       "<option value=\"26\">Brazil</option>\n",
       "<option value=\"276\">British India</option>\n",
       "<option value=\"231\">British Virgin Islands</option>\n",
       "<option value=\"27\">Brunei Darussalam</option>\n",
       "<option value=\"28\">Bulgaria</option>\n",
       "<option value=\"29\">Burkina Faso</option>\n",
       "<option value=\"30\">Burundi</option>\n",
       "<option value=\"79\">Cambodia</option>\n",
       "<option value=\"31\">Cameroon</option>\n",
       "<option value=\"80\">Canada</option>\n",
       "<option value=\"32\">Cape Verde</option>\n",
       "<option value=\"229\">Cayman Islands</option>\n",
       "<option value=\"138\">Central African Republic</option>\n",
       "<option value=\"171\">Chad</option>\n",
       "<option value=\"33\">Chile</option>\n",
       "<option value=\"34\">China</option>\n",
       "<option value=\"164\">Chinese Taipei</option>\n",
       "<option value=\"248\">Christmas Island</option>\n",
       "<option value=\"83\">Colombia</option>\n",
       "<option value=\"35\">Comoros</option>\n",
       "<option value=\"85\">Congo</option>\n",
       "<option value=\"238\">Cookinseln</option>\n",
       "<option value=\"36\">Costa Rica</option>\n",
       "<option value=\"38\">Cote d'Ivoire</option>\n",
       "<option value=\"37\">Croatia</option>\n",
       "<option value=\"220\">CSSR</option>\n",
       "<option value=\"88\">Cuba</option>\n",
       "<option value=\"260\">Curacao</option>\n",
       "<option value=\"188\">Cyprus</option>\n",
       "<option value=\"172\">Czech Republic</option>\n",
       "<option value=\"39\">Denmark</option>\n",
       "<option value=\"41\">Djibouti</option>\n",
       "<option value=\"42\">Dominica</option>\n",
       "<option value=\"43\">Dominican Republic</option>\n",
       "<option value=\"193\">DR Congo</option>\n",
       "<option value=\"222\">East Germany (GDR)</option>\n",
       "<option value=\"44\">Ecuador</option>\n",
       "<option value=\"2\">Egypt</option>\n",
       "<option value=\"45\">El Salvador</option>\n",
       "<option selected=\"selected\" value=\"189\">England</option>\n",
       "<option value=\"8\">Equatorial Guinea</option>\n",
       "<option value=\"46\">Eritrea</option>\n",
       "<option value=\"47\">Estonia</option>\n",
       "<option value=\"162\">Eswatini</option>\n",
       "<option value=\"11\">Ethiopia</option>\n",
       "<option value=\"250\">Falkland Islands</option>\n",
       "<option value=\"208\">Faroe Islands</option>\n",
       "<option value=\"111\">Federated States of Micronesia</option>\n",
       "<option value=\"48\">Fiji</option>\n",
       "<option value=\"49\">Finland</option>\n",
       "<option value=\"50\">France</option>\n",
       "<option value=\"252\">French Guiana</option>\n",
       "<option value=\"51\">Gabon</option>\n",
       "<option value=\"53\">Georgia</option>\n",
       "<option value=\"40\">Germany</option>\n",
       "<option value=\"54\">Ghana</option>\n",
       "<option value=\"266\">Gibraltar</option>\n",
       "<option value=\"56\">Greece</option>\n",
       "<option value=\"243\">Greenland</option>\n",
       "<option value=\"55\">Grenada</option>\n",
       "<option value=\"251\">Guadeloupe</option>\n",
       "<option value=\"241\">Guam</option>\n",
       "<option value=\"58\">Guatemala</option>\n",
       "<option value=\"271\">Guernsey</option>\n",
       "<option value=\"59\">Guinea</option>\n",
       "<option value=\"60\">Guinea-Bissau</option>\n",
       "<option value=\"61\">Guyana</option>\n",
       "<option value=\"62\">Haiti</option>\n",
       "<option value=\"66\">Honduras</option>\n",
       "<option value=\"218\">Hongkong</option>\n",
       "<option value=\"178\">Hungary</option>\n",
       "<option value=\"73\">Iceland</option>\n",
       "<option value=\"67\">India</option>\n",
       "<option value=\"68\">Indonesia</option>\n",
       "<option value=\"71\">Iran</option>\n",
       "<option value=\"70\">Iraq</option>\n",
       "<option value=\"72\">Ireland</option>\n",
       "<option value=\"270\">Isle of Man</option>\n",
       "<option value=\"74\">Israel</option>\n",
       "<option value=\"75\">Italy</option>\n",
       "<option value=\"76\">Jamaica</option>\n",
       "<option value=\"77\">Japan</option>\n",
       "<option value=\"272\">Jersey</option>\n",
       "<option value=\"78\">Jordan</option>\n",
       "<option value=\"223\">Jugoslawien (SFR)</option>\n",
       "<option value=\"81\">Kazakhstan</option>\n",
       "<option value=\"82\">Kenya</option>\n",
       "<option value=\"246\">Kiribati</option>\n",
       "<option value=\"86\">Korea, North</option>\n",
       "<option value=\"87\">Korea, South</option>\n",
       "<option value=\"244\">Kosovo</option>\n",
       "<option value=\"89\">Kuwait</option>\n",
       "<option value=\"90\">Kyrgyzstan</option>\n",
       "<option value=\"91\">Laos</option>\n",
       "<option value=\"92\">Latvia</option>\n",
       "<option value=\"94\">Lebanon</option>\n",
       "<option value=\"93\">Lesotho</option>\n",
       "<option value=\"95\">Liberia</option>\n",
       "<option value=\"96\">Libya</option>\n",
       "<option value=\"97\">Liechtenstein</option>\n",
       "<option value=\"98\">Lithuania</option>\n",
       "<option value=\"99\">Luxembourg</option>\n",
       "<option value=\"219\">Macao</option>\n",
       "<option value=\"274\">Macedonia</option>\n",
       "<option value=\"101\">Madagascar</option>\n",
       "<option value=\"102\">Malawi</option>\n",
       "<option value=\"103\">Malaysia</option>\n",
       "<option value=\"104\">Maldives</option>\n",
       "<option value=\"105\">Mali</option>\n",
       "<option value=\"106\">Malta</option>\n",
       "<option value=\"257\">Marshall Islands</option>\n",
       "<option value=\"207\">Martinique</option>\n",
       "<option value=\"108\">Mauritania</option>\n",
       "<option value=\"109\">Mauritius</option>\n",
       "<option value=\"277\">Mayotte</option>\n",
       "<option value=\"110\">Mexico</option>\n",
       "<option value=\"112\">Moldova</option>\n",
       "<option value=\"113\">Monaco</option>\n",
       "<option value=\"114\">Mongolia</option>\n",
       "<option value=\"216\">Montenegro</option>\n",
       "<option value=\"235\">Montserrat</option>\n",
       "<option value=\"107\">Morocco</option>\n",
       "<option value=\"115\">Mozambique</option>\n",
       "<option value=\"116\">Myanmar</option>\n",
       "<option value=\"117\">Namibia</option>\n",
       "<option value=\"118\">Nauru</option>\n",
       "<option value=\"119\">Nepal</option>\n",
       "<option value=\"122\">Netherlands</option>\n",
       "<option value=\"227\">Netherlands Antilles</option>\n",
       "<option value=\"255\">Netherlands East India</option>\n",
       "<option value=\"236\">Neukaledonien</option>\n",
       "<option value=\"120\">New Zealand</option>\n",
       "<option value=\"121\">Nicaragua</option>\n",
       "<option value=\"123\">Niger</option>\n",
       "<option value=\"124\">Nigeria</option>\n",
       "<option value=\"261\">Niue</option>\n",
       "<option value=\"100\">North Macedonia</option>\n",
       "<option value=\"192\">Northern Ireland</option>\n",
       "<option value=\"268\">Northern Mariana Islands</option>\n",
       "<option value=\"125\">Norway</option>\n",
       "<option value=\"126\">Oman</option>\n",
       "<option value=\"128\">Pakistan</option>\n",
       "<option value=\"129\">Palau</option>\n",
       "<option value=\"240\">Palestine</option>\n",
       "<option value=\"130\">Panama</option>\n",
       "<option value=\"131\">Papua New Guinea</option>\n",
       "<option value=\"132\">Paraguay</option>\n",
       "<option value=\"259\">People's republic of the Congo</option>\n",
       "<option value=\"133\">Peru</option>\n",
       "<option value=\"134\">Philippines</option>\n",
       "<option value=\"135\">Poland</option>\n",
       "<option value=\"136\">Portugal</option>\n",
       "<option value=\"228\">Puerto Rico</option>\n",
       "<option value=\"137\">Qatar</option>\n",
       "<option value=\"249\">Réunion</option>\n",
       "<option value=\"140\">Romania</option>\n",
       "<option value=\"141\">Russia</option>\n",
       "<option value=\"139\">Rwanda</option>\n",
       "<option value=\"263\">Saarland</option>\n",
       "<option value=\"267\">Saint-Martin</option>\n",
       "<option value=\"143\">Samoa</option>\n",
       "<option value=\"144\">San Marino</option>\n",
       "<option value=\"145\">Sao Tome and Principe</option>\n",
       "<option value=\"146\">Saudi Arabia</option>\n",
       "<option value=\"190\">Scotland</option>\n",
       "<option value=\"149\">Senegal</option>\n",
       "<option value=\"215\">Serbia</option>\n",
       "<option value=\"150\">Serbia and Montenegro</option>\n",
       "<option value=\"151\">Seychelles</option>\n",
       "<option value=\"152\">Sierra Leone</option>\n",
       "<option value=\"153\">Singapore</option>\n",
       "<option value=\"265\">Sint Maarten</option>\n",
       "<option value=\"154\">Slovakia</option>\n",
       "<option value=\"155\">Slovenia</option>\n",
       "<option value=\"69\">Solomon Islands</option>\n",
       "<option value=\"156\">Somalia</option>\n",
       "<option value=\"159\">South Africa</option>\n",
       "<option value=\"262\">Southern Sudan</option>\n",
       "<option value=\"157\">Spain</option>\n",
       "<option value=\"158\">Sri Lanka</option>\n",
       "<option value=\"225\">St. Kitts &amp; Nevis</option>\n",
       "<option value=\"230\">St. Lucia</option>\n",
       "<option value=\"224\">St. Vincent &amp; Grenadinen</option>\n",
       "<option value=\"160\">Sudan</option>\n",
       "<option value=\"161\">Suriname</option>\n",
       "<option value=\"273\">Swaziland</option>\n",
       "<option value=\"147\">Sweden</option>\n",
       "<option value=\"148\">Switzerland</option>\n",
       "<option value=\"163\">Syria</option>\n",
       "<option value=\"237\">Tahiti</option>\n",
       "<option value=\"165\">Tajikistan</option>\n",
       "<option value=\"166\">Tanzania</option>\n",
       "<option value=\"167\">Thailand</option>\n",
       "<option value=\"52\">The Gambia</option>\n",
       "<option value=\"245\">Tibet</option>\n",
       "<option value=\"242\">Timor-Leste</option>\n",
       "<option value=\"168\">Togo</option>\n",
       "<option value=\"169\">Tonga</option>\n",
       "<option value=\"170\">Trinidad and Tobago</option>\n",
       "<option value=\"173\">Tunisia</option>\n",
       "<option value=\"174\">Turkey</option>\n",
       "<option value=\"175\">Turkmenistan</option>\n",
       "<option value=\"226\">Turks- and Caicosinseln</option>\n",
       "<option value=\"247\">Tuvalu</option>\n",
       "<option value=\"221\">UdSSR</option>\n",
       "<option value=\"176\">Uganda</option>\n",
       "<option value=\"177\">Ukraine</option>\n",
       "<option value=\"183\">United Arab Emirates</option>\n",
       "<option value=\"264\">United Kingdom</option>\n",
       "<option value=\"184\">United States</option>\n",
       "<option value=\"179\">Uruguay</option>\n",
       "<option value=\"180\">Uzbekistan</option>\n",
       "<option value=\"181\">Vanuatu</option>\n",
       "<option value=\"256\">Vatican</option>\n",
       "<option value=\"182\">Venezuela</option>\n",
       "<option value=\"185\">Vietnam</option>\n",
       "<option value=\"191\">Wales</option>\n",
       "<option value=\"275\">Western Sahara</option>\n",
       "<option value=\"186\">Yemen</option>\n",
       "<option value=\"258\">Yugoslavia (Republic)</option>\n",
       "<option value=\"254\">Zaire</option>\n",
       "<option value=\"142\">Zambia</option>\n",
       "<option value=\"253\">Zanzibar</option>\n",
       "<option value=\"187\">Zimbabwe</option>\n",
       "</select><div class=\"chzn-container chzn-container-single\" id=\"selATN_chzn\" style=\"width: 100%;\" title=\"\"><a class=\"chzn-single\" href=\"javascript:void(0)\" tabindex=\"-1\"><span>England</span><div><b></b></div></a><div class=\"chzn-drop\"><div class=\"chzn-search\"><input autocomplete=\"off\" tabindex=\"0\" type=\"search\"/></div><ul class=\"chzn-results\"><li class=\"active-result\" id=\"selATN_chzn_o_0\" style=\"\">All</li><li class=\"active-result\" id=\"selATN_chzn_o_1\" style=\"\">Afghanistan</li><li class=\"active-result\" id=\"selATN_chzn_o_2\" style=\"\">Albania</li><li class=\"active-result\" id=\"selATN_chzn_o_3\" style=\"\">Algeria</li><li class=\"active-result\" id=\"selATN_chzn_o_4\" style=\"\">American Samoa</li><li class=\"active-result\" id=\"selATN_chzn_o_5\" style=\"\">American Virgin Islands</li><li class=\"active-result\" id=\"selATN_chzn_o_6\" style=\"\">Andorra</li><li class=\"active-result\" id=\"selATN_chzn_o_7\" style=\"\">Angola</li><li class=\"active-result\" id=\"selATN_chzn_o_8\" style=\"\">Anguilla</li><li class=\"active-result\" id=\"selATN_chzn_o_9\" style=\"\">Antigua and Barbuda</li><li class=\"active-result\" id=\"selATN_chzn_o_10\" style=\"\">Argentina</li><li class=\"active-result\" id=\"selATN_chzn_o_11\" style=\"\">Armenia</li><li class=\"active-result\" id=\"selATN_chzn_o_12\" style=\"\">Aruba</li><li class=\"active-result\" id=\"selATN_chzn_o_13\" style=\"\">Australia</li><li class=\"active-result\" id=\"selATN_chzn_o_14\" style=\"\">Austria</li><li class=\"active-result\" id=\"selATN_chzn_o_15\" style=\"\">Azerbaijan</li><li class=\"active-result\" id=\"selATN_chzn_o_16\" style=\"\">Bahamas</li><li class=\"active-result\" id=\"selATN_chzn_o_17\" style=\"\">Bahrain</li><li class=\"active-result\" id=\"selATN_chzn_o_18\" style=\"\">Bangladesh</li><li class=\"active-result\" id=\"selATN_chzn_o_19\" style=\"\">Barbados</li><li class=\"active-result\" id=\"selATN_chzn_o_20\" style=\"\">Belarus</li><li class=\"active-result\" id=\"selATN_chzn_o_21\" style=\"\">Belgium</li><li class=\"active-result\" id=\"selATN_chzn_o_22\" style=\"\">Belize</li><li class=\"active-result\" id=\"selATN_chzn_o_23\" style=\"\">Benin</li><li class=\"active-result\" id=\"selATN_chzn_o_24\" style=\"\">Bermuda</li><li class=\"active-result\" id=\"selATN_chzn_o_25\" style=\"\">Bhutan</li><li class=\"active-result\" id=\"selATN_chzn_o_26\" style=\"\">Bolivia</li><li class=\"active-result\" id=\"selATN_chzn_o_27\" style=\"\">Bonaire</li><li class=\"active-result\" id=\"selATN_chzn_o_28\" style=\"\">Bosnia-Herzegovina</li><li class=\"active-result\" id=\"selATN_chzn_o_29\" style=\"\">Botsuana</li><li class=\"active-result\" id=\"selATN_chzn_o_30\" style=\"\">Brazil</li><li class=\"active-result\" id=\"selATN_chzn_o_31\" style=\"\">British India</li><li class=\"active-result\" id=\"selATN_chzn_o_32\" style=\"\">British Virgin Islands</li><li class=\"active-result\" id=\"selATN_chzn_o_33\" style=\"\">Brunei Darussalam</li><li class=\"active-result\" id=\"selATN_chzn_o_34\" style=\"\">Bulgaria</li><li class=\"active-result\" id=\"selATN_chzn_o_35\" style=\"\">Burkina Faso</li><li class=\"active-result\" id=\"selATN_chzn_o_36\" style=\"\">Burundi</li><li class=\"active-result\" id=\"selATN_chzn_o_37\" style=\"\">Cambodia</li><li class=\"active-result\" id=\"selATN_chzn_o_38\" style=\"\">Cameroon</li><li class=\"active-result\" id=\"selATN_chzn_o_39\" style=\"\">Canada</li><li class=\"active-result\" id=\"selATN_chzn_o_40\" style=\"\">Cape Verde</li><li class=\"active-result\" id=\"selATN_chzn_o_41\" style=\"\">Cayman Islands</li><li class=\"active-result\" id=\"selATN_chzn_o_42\" style=\"\">Central African Republic</li><li class=\"active-result\" id=\"selATN_chzn_o_43\" style=\"\">Chad</li><li class=\"active-result\" id=\"selATN_chzn_o_44\" style=\"\">Chile</li><li class=\"active-result\" id=\"selATN_chzn_o_45\" style=\"\">China</li><li class=\"active-result\" id=\"selATN_chzn_o_46\" style=\"\">Chinese Taipei</li><li class=\"active-result\" id=\"selATN_chzn_o_47\" style=\"\">Christmas Island</li><li class=\"active-result\" id=\"selATN_chzn_o_48\" style=\"\">Colombia</li><li class=\"active-result\" id=\"selATN_chzn_o_49\" style=\"\">Comoros</li><li class=\"active-result\" id=\"selATN_chzn_o_50\" style=\"\">Congo</li><li class=\"active-result\" id=\"selATN_chzn_o_51\" style=\"\">Cookinseln</li><li class=\"active-result\" id=\"selATN_chzn_o_52\" style=\"\">Costa Rica</li><li class=\"active-result\" id=\"selATN_chzn_o_53\" style=\"\">Cote d'Ivoire</li><li class=\"active-result\" id=\"selATN_chzn_o_54\" style=\"\">Croatia</li><li class=\"active-result\" id=\"selATN_chzn_o_55\" style=\"\">CSSR</li><li class=\"active-result\" id=\"selATN_chzn_o_56\" style=\"\">Cuba</li><li class=\"active-result\" id=\"selATN_chzn_o_57\" style=\"\">Curacao</li><li class=\"active-result\" id=\"selATN_chzn_o_58\" style=\"\">Cyprus</li><li class=\"active-result\" id=\"selATN_chzn_o_59\" style=\"\">Czech Republic</li><li class=\"active-result\" id=\"selATN_chzn_o_60\" style=\"\">Denmark</li><li class=\"active-result\" id=\"selATN_chzn_o_61\" style=\"\">Djibouti</li><li class=\"active-result\" id=\"selATN_chzn_o_62\" style=\"\">Dominica</li><li class=\"active-result\" id=\"selATN_chzn_o_63\" style=\"\">Dominican Republic</li><li class=\"active-result\" id=\"selATN_chzn_o_64\" style=\"\">DR Congo</li><li class=\"active-result\" id=\"selATN_chzn_o_65\" style=\"\">East Germany (GDR)</li><li class=\"active-result\" id=\"selATN_chzn_o_66\" style=\"\">Ecuador</li><li class=\"active-result\" id=\"selATN_chzn_o_67\" style=\"\">Egypt</li><li class=\"active-result\" id=\"selATN_chzn_o_68\" style=\"\">El Salvador</li><li class=\"active-result result-selected\" id=\"selATN_chzn_o_69\" style=\"\">England</li><li class=\"active-result\" id=\"selATN_chzn_o_70\" style=\"\">Equatorial Guinea</li><li class=\"active-result\" id=\"selATN_chzn_o_71\" style=\"\">Eritrea</li><li class=\"active-result\" id=\"selATN_chzn_o_72\" style=\"\">Estonia</li><li class=\"active-result\" id=\"selATN_chzn_o_73\" style=\"\">Eswatini</li><li class=\"active-result\" id=\"selATN_chzn_o_74\" style=\"\">Ethiopia</li><li class=\"active-result\" id=\"selATN_chzn_o_75\" style=\"\">Falkland Islands</li><li class=\"active-result\" id=\"selATN_chzn_o_76\" style=\"\">Faroe Islands</li><li class=\"active-result\" id=\"selATN_chzn_o_77\" style=\"\">Federated States of Micronesia</li><li class=\"active-result\" id=\"selATN_chzn_o_78\" style=\"\">Fiji</li><li class=\"active-result\" id=\"selATN_chzn_o_79\" style=\"\">Finland</li><li class=\"active-result\" id=\"selATN_chzn_o_80\" style=\"\">France</li><li class=\"active-result\" id=\"selATN_chzn_o_81\" style=\"\">French Guiana</li><li class=\"active-result\" id=\"selATN_chzn_o_82\" style=\"\">Gabon</li><li class=\"active-result\" id=\"selATN_chzn_o_83\" style=\"\">Georgia</li><li class=\"active-result\" id=\"selATN_chzn_o_84\" style=\"\">Germany</li><li class=\"active-result\" id=\"selATN_chzn_o_85\" style=\"\">Ghana</li><li class=\"active-result\" id=\"selATN_chzn_o_86\" style=\"\">Gibraltar</li><li class=\"active-result\" id=\"selATN_chzn_o_87\" style=\"\">Greece</li><li class=\"active-result\" id=\"selATN_chzn_o_88\" style=\"\">Greenland</li><li class=\"active-result\" id=\"selATN_chzn_o_89\" style=\"\">Grenada</li><li class=\"active-result\" id=\"selATN_chzn_o_90\" style=\"\">Guadeloupe</li><li class=\"active-result\" id=\"selATN_chzn_o_91\" style=\"\">Guam</li><li class=\"active-result\" id=\"selATN_chzn_o_92\" style=\"\">Guatemala</li><li class=\"active-result\" id=\"selATN_chzn_o_93\" style=\"\">Guernsey</li><li class=\"active-result\" id=\"selATN_chzn_o_94\" style=\"\">Guinea</li><li class=\"active-result\" id=\"selATN_chzn_o_95\" style=\"\">Guinea-Bissau</li><li class=\"active-result\" id=\"selATN_chzn_o_96\" style=\"\">Guyana</li><li class=\"active-result\" id=\"selATN_chzn_o_97\" style=\"\">Haiti</li><li class=\"active-result\" id=\"selATN_chzn_o_98\" style=\"\">Honduras</li><li class=\"active-result\" id=\"selATN_chzn_o_99\" style=\"\">Hongkong</li><li class=\"active-result\" id=\"selATN_chzn_o_100\" style=\"\">Hungary</li><li class=\"active-result\" id=\"selATN_chzn_o_101\" style=\"\">Iceland</li><li class=\"active-result\" id=\"selATN_chzn_o_102\" style=\"\">India</li><li class=\"active-result\" id=\"selATN_chzn_o_103\" style=\"\">Indonesia</li><li class=\"active-result\" id=\"selATN_chzn_o_104\" style=\"\">Iran</li><li class=\"active-result\" id=\"selATN_chzn_o_105\" style=\"\">Iraq</li><li class=\"active-result\" id=\"selATN_chzn_o_106\" style=\"\">Ireland</li><li class=\"active-result\" id=\"selATN_chzn_o_107\" style=\"\">Isle of Man</li><li class=\"active-result\" id=\"selATN_chzn_o_108\" style=\"\">Israel</li><li class=\"active-result\" id=\"selATN_chzn_o_109\" style=\"\">Italy</li><li class=\"active-result\" id=\"selATN_chzn_o_110\" style=\"\">Jamaica</li><li class=\"active-result\" id=\"selATN_chzn_o_111\" style=\"\">Japan</li><li class=\"active-result\" id=\"selATN_chzn_o_112\" style=\"\">Jersey</li><li class=\"active-result\" id=\"selATN_chzn_o_113\" style=\"\">Jordan</li><li class=\"active-result\" id=\"selATN_chzn_o_114\" style=\"\">Jugoslawien (SFR)</li><li class=\"active-result\" id=\"selATN_chzn_o_115\" style=\"\">Kazakhstan</li><li class=\"active-result\" id=\"selATN_chzn_o_116\" style=\"\">Kenya</li><li class=\"active-result\" id=\"selATN_chzn_o_117\" style=\"\">Kiribati</li><li class=\"active-result\" id=\"selATN_chzn_o_118\" style=\"\">Korea, North</li><li class=\"active-result\" id=\"selATN_chzn_o_119\" style=\"\">Korea, South</li><li class=\"active-result\" id=\"selATN_chzn_o_120\" style=\"\">Kosovo</li><li class=\"active-result\" id=\"selATN_chzn_o_121\" style=\"\">Kuwait</li><li class=\"active-result\" id=\"selATN_chzn_o_122\" style=\"\">Kyrgyzstan</li><li class=\"active-result\" id=\"selATN_chzn_o_123\" style=\"\">Laos</li><li class=\"active-result\" id=\"selATN_chzn_o_124\" style=\"\">Latvia</li><li class=\"active-result\" id=\"selATN_chzn_o_125\" style=\"\">Lebanon</li><li class=\"active-result\" id=\"selATN_chzn_o_126\" style=\"\">Lesotho</li><li class=\"active-result\" id=\"selATN_chzn_o_127\" style=\"\">Liberia</li><li class=\"active-result\" id=\"selATN_chzn_o_128\" style=\"\">Libya</li><li class=\"active-result\" id=\"selATN_chzn_o_129\" style=\"\">Liechtenstein</li><li class=\"active-result\" id=\"selATN_chzn_o_130\" style=\"\">Lithuania</li><li class=\"active-result\" id=\"selATN_chzn_o_131\" style=\"\">Luxembourg</li><li class=\"active-result\" id=\"selATN_chzn_o_132\" style=\"\">Macao</li><li class=\"active-result\" id=\"selATN_chzn_o_133\" style=\"\">Macedonia</li><li class=\"active-result\" id=\"selATN_chzn_o_134\" style=\"\">Madagascar</li><li class=\"active-result\" id=\"selATN_chzn_o_135\" style=\"\">Malawi</li><li class=\"active-result\" id=\"selATN_chzn_o_136\" style=\"\">Malaysia</li><li class=\"active-result\" id=\"selATN_chzn_o_137\" style=\"\">Maldives</li><li class=\"active-result\" id=\"selATN_chzn_o_138\" style=\"\">Mali</li><li class=\"active-result\" id=\"selATN_chzn_o_139\" style=\"\">Malta</li><li class=\"active-result\" id=\"selATN_chzn_o_140\" style=\"\">Marshall Islands</li><li class=\"active-result\" id=\"selATN_chzn_o_141\" style=\"\">Martinique</li><li class=\"active-result\" id=\"selATN_chzn_o_142\" style=\"\">Mauritania</li><li class=\"active-result\" id=\"selATN_chzn_o_143\" style=\"\">Mauritius</li><li class=\"active-result\" id=\"selATN_chzn_o_144\" style=\"\">Mayotte</li><li class=\"active-result\" id=\"selATN_chzn_o_145\" style=\"\">Mexico</li><li class=\"active-result\" id=\"selATN_chzn_o_146\" style=\"\">Moldova</li><li class=\"active-result\" id=\"selATN_chzn_o_147\" style=\"\">Monaco</li><li class=\"active-result\" id=\"selATN_chzn_o_148\" style=\"\">Mongolia</li><li class=\"active-result\" id=\"selATN_chzn_o_149\" style=\"\">Montenegro</li><li class=\"active-result\" id=\"selATN_chzn_o_150\" style=\"\">Montserrat</li><li class=\"active-result\" id=\"selATN_chzn_o_151\" style=\"\">Morocco</li><li class=\"active-result\" id=\"selATN_chzn_o_152\" style=\"\">Mozambique</li><li class=\"active-result\" id=\"selATN_chzn_o_153\" style=\"\">Myanmar</li><li class=\"active-result\" id=\"selATN_chzn_o_154\" style=\"\">Namibia</li><li class=\"active-result\" id=\"selATN_chzn_o_155\" style=\"\">Nauru</li><li class=\"active-result\" id=\"selATN_chzn_o_156\" style=\"\">Nepal</li><li class=\"active-result\" id=\"selATN_chzn_o_157\" style=\"\">Netherlands</li><li class=\"active-result\" id=\"selATN_chzn_o_158\" style=\"\">Netherlands Antilles</li><li class=\"active-result\" id=\"selATN_chzn_o_159\" style=\"\">Netherlands East India</li><li class=\"active-result\" id=\"selATN_chzn_o_160\" style=\"\">Neukaledonien</li><li class=\"active-result\" id=\"selATN_chzn_o_161\" style=\"\">New Zealand</li><li class=\"active-result\" id=\"selATN_chzn_o_162\" style=\"\">Nicaragua</li><li class=\"active-result\" id=\"selATN_chzn_o_163\" style=\"\">Niger</li><li class=\"active-result\" id=\"selATN_chzn_o_164\" style=\"\">Nigeria</li><li class=\"active-result\" id=\"selATN_chzn_o_165\" style=\"\">Niue</li><li class=\"active-result\" id=\"selATN_chzn_o_166\" style=\"\">North Macedonia</li><li class=\"active-result\" id=\"selATN_chzn_o_167\" style=\"\">Northern Ireland</li><li class=\"active-result\" id=\"selATN_chzn_o_168\" style=\"\">Northern Mariana Islands</li><li class=\"active-result\" id=\"selATN_chzn_o_169\" style=\"\">Norway</li><li class=\"active-result\" id=\"selATN_chzn_o_170\" style=\"\">Oman</li><li class=\"active-result\" id=\"selATN_chzn_o_171\" style=\"\">Pakistan</li><li class=\"active-result\" id=\"selATN_chzn_o_172\" style=\"\">Palau</li><li class=\"active-result\" id=\"selATN_chzn_o_173\" style=\"\">Palestine</li><li class=\"active-result\" id=\"selATN_chzn_o_174\" style=\"\">Panama</li><li class=\"active-result\" id=\"selATN_chzn_o_175\" style=\"\">Papua New Guinea</li><li class=\"active-result\" id=\"selATN_chzn_o_176\" style=\"\">Paraguay</li><li class=\"active-result\" id=\"selATN_chzn_o_177\" style=\"\">People's republic of the Congo</li><li class=\"active-result\" id=\"selATN_chzn_o_178\" style=\"\">Peru</li><li class=\"active-result\" id=\"selATN_chzn_o_179\" style=\"\">Philippines</li><li class=\"active-result\" id=\"selATN_chzn_o_180\" style=\"\">Poland</li><li class=\"active-result\" id=\"selATN_chzn_o_181\" style=\"\">Portugal</li><li class=\"active-result\" id=\"selATN_chzn_o_182\" style=\"\">Puerto Rico</li><li class=\"active-result\" id=\"selATN_chzn_o_183\" style=\"\">Qatar</li><li class=\"active-result\" id=\"selATN_chzn_o_184\" style=\"\">Réunion</li><li class=\"active-result\" id=\"selATN_chzn_o_185\" style=\"\">Romania</li><li class=\"active-result\" id=\"selATN_chzn_o_186\" style=\"\">Russia</li><li class=\"active-result\" id=\"selATN_chzn_o_187\" style=\"\">Rwanda</li><li class=\"active-result\" id=\"selATN_chzn_o_188\" style=\"\">Saarland</li><li class=\"active-result\" id=\"selATN_chzn_o_189\" style=\"\">Saint-Martin</li><li class=\"active-result\" id=\"selATN_chzn_o_190\" style=\"\">Samoa</li><li class=\"active-result\" id=\"selATN_chzn_o_191\" style=\"\">San Marino</li><li class=\"active-result\" id=\"selATN_chzn_o_192\" style=\"\">Sao Tome and Principe</li><li class=\"active-result\" id=\"selATN_chzn_o_193\" style=\"\">Saudi Arabia</li><li class=\"active-result\" id=\"selATN_chzn_o_194\" style=\"\">Scotland</li><li class=\"active-result\" id=\"selATN_chzn_o_195\" style=\"\">Senegal</li><li class=\"active-result\" id=\"selATN_chzn_o_196\" style=\"\">Serbia</li><li class=\"active-result\" id=\"selATN_chzn_o_197\" style=\"\">Serbia and Montenegro</li><li class=\"active-result\" id=\"selATN_chzn_o_198\" style=\"\">Seychelles</li><li class=\"active-result\" id=\"selATN_chzn_o_199\" style=\"\">Sierra Leone</li><li class=\"active-result\" id=\"selATN_chzn_o_200\" style=\"\">Singapore</li><li class=\"active-result\" id=\"selATN_chzn_o_201\" style=\"\">Sint Maarten</li><li class=\"active-result\" id=\"selATN_chzn_o_202\" style=\"\">Slovakia</li><li class=\"active-result\" id=\"selATN_chzn_o_203\" style=\"\">Slovenia</li><li class=\"active-result\" id=\"selATN_chzn_o_204\" style=\"\">Solomon Islands</li><li class=\"active-result\" id=\"selATN_chzn_o_205\" style=\"\">Somalia</li><li class=\"active-result\" id=\"selATN_chzn_o_206\" style=\"\">South Africa</li><li class=\"active-result\" id=\"selATN_chzn_o_207\" style=\"\">Southern Sudan</li><li class=\"active-result\" id=\"selATN_chzn_o_208\" style=\"\">Spain</li><li class=\"active-result\" id=\"selATN_chzn_o_209\" style=\"\">Sri Lanka</li><li class=\"active-result\" id=\"selATN_chzn_o_210\" style=\"\">St. Kitts &amp; Nevis</li><li class=\"active-result\" id=\"selATN_chzn_o_211\" style=\"\">St. Lucia</li><li class=\"active-result\" id=\"selATN_chzn_o_212\" style=\"\">St. Vincent &amp; Grenadinen</li><li class=\"active-result\" id=\"selATN_chzn_o_213\" style=\"\">Sudan</li><li class=\"active-result\" id=\"selATN_chzn_o_214\" style=\"\">Suriname</li><li class=\"active-result\" id=\"selATN_chzn_o_215\" style=\"\">Swaziland</li><li class=\"active-result\" id=\"selATN_chzn_o_216\" style=\"\">Sweden</li><li class=\"active-result\" id=\"selATN_chzn_o_217\" style=\"\">Switzerland</li><li class=\"active-result\" id=\"selATN_chzn_o_218\" style=\"\">Syria</li><li class=\"active-result\" id=\"selATN_chzn_o_219\" style=\"\">Tahiti</li><li class=\"active-result\" id=\"selATN_chzn_o_220\" style=\"\">Tajikistan</li><li class=\"active-result\" id=\"selATN_chzn_o_221\" style=\"\">Tanzania</li><li class=\"active-result\" id=\"selATN_chzn_o_222\" style=\"\">Thailand</li><li class=\"active-result\" id=\"selATN_chzn_o_223\" style=\"\">The Gambia</li><li class=\"active-result\" id=\"selATN_chzn_o_224\" style=\"\">Tibet</li><li class=\"active-result\" id=\"selATN_chzn_o_225\" style=\"\">Timor-Leste</li><li class=\"active-result\" id=\"selATN_chzn_o_226\" style=\"\">Togo</li><li class=\"active-result\" id=\"selATN_chzn_o_227\" style=\"\">Tonga</li><li class=\"active-result\" id=\"selATN_chzn_o_228\" style=\"\">Trinidad and Tobago</li><li class=\"active-result\" id=\"selATN_chzn_o_229\" style=\"\">Tunisia</li><li class=\"active-result\" id=\"selATN_chzn_o_230\" style=\"\">Turkey</li><li class=\"active-result\" id=\"selATN_chzn_o_231\" style=\"\">Turkmenistan</li><li class=\"active-result\" id=\"selATN_chzn_o_232\" style=\"\">Turks- and Caicosinseln</li><li class=\"active-result\" id=\"selATN_chzn_o_233\" style=\"\">Tuvalu</li><li class=\"active-result\" id=\"selATN_chzn_o_234\" style=\"\">UdSSR</li><li class=\"active-result\" id=\"selATN_chzn_o_235\" style=\"\">Uganda</li><li class=\"active-result\" id=\"selATN_chzn_o_236\" style=\"\">Ukraine</li><li class=\"active-result\" id=\"selATN_chzn_o_237\" style=\"\">United Arab Emirates</li><li class=\"active-result\" id=\"selATN_chzn_o_238\" style=\"\">United Kingdom</li><li class=\"active-result\" id=\"selATN_chzn_o_239\" style=\"\">United States</li><li class=\"active-result\" id=\"selATN_chzn_o_240\" style=\"\">Uruguay</li><li class=\"active-result\" id=\"selATN_chzn_o_241\" style=\"\">Uzbekistan</li><li class=\"active-result\" id=\"selATN_chzn_o_242\" style=\"\">Vanuatu</li><li class=\"active-result\" id=\"selATN_chzn_o_243\" style=\"\">Vatican</li><li class=\"active-result\" id=\"selATN_chzn_o_244\" style=\"\">Venezuela</li><li class=\"active-result\" id=\"selATN_chzn_o_245\" style=\"\">Vietnam</li><li class=\"active-result\" id=\"selATN_chzn_o_246\" style=\"\">Wales</li><li class=\"active-result\" id=\"selATN_chzn_o_247\" style=\"\">Western Sahara</li><li class=\"active-result\" id=\"selATN_chzn_o_248\" style=\"\">Yemen</li><li class=\"active-result\" id=\"selATN_chzn_o_249\" style=\"\">Yugoslavia (Republic)</li><li class=\"active-result\" id=\"selATN_chzn_o_250\" style=\"\">Zaire</li><li class=\"active-result\" id=\"selATN_chzn_o_251\" style=\"\">Zambia</li><li class=\"active-result\" id=\"selATN_chzn_o_252\" style=\"\">Zanzibar</li><li class=\"active-result\" id=\"selATN_chzn_o_253\" style=\"\">Zimbabwe</li></ul></div></div>\n",
       "</div>\n",
       "</td>\n",
       "</tr>\n",
       "<tr>\n",
       "<td>Confederation:</td>\n",
       "<td>\n",
       "<div class=\"inline-select\">\n",
       "<select class=\"chzn-select chzn-done\" data-placeholder=\"\" id=\"selDUZ\" name=\"kontinent_id\" style=\"display: none;\" tabindex=\"-1\">\n",
       "<option value=\"0\">Worldwide</option>\n",
       "<option value=\"1\">AFC</option>\n",
       "<option value=\"2\">CAF</option>\n",
       "<option value=\"3\">CONCACAF</option>\n",
       "<option value=\"4\">CONMEBOL</option>\n",
       "<option value=\"5\">OFC</option>\n",
       "<option selected=\"selected\" value=\"6\">UEFA</option>\n",
       "</select><div class=\"chzn-container chzn-container-single\" id=\"selDUZ_chzn\" style=\"width: 100%;\" title=\"\"><a class=\"chzn-single\" href=\"javascript:void(0)\" tabindex=\"-1\"><span>UEFA</span><div><b></b></div></a><div class=\"chzn-drop\"><div class=\"chzn-search\"><input autocomplete=\"off\" tabindex=\"0\" type=\"search\"/></div><ul class=\"chzn-results\"><li class=\"active-result\" id=\"selDUZ_chzn_o_0\" style=\"\">Worldwide</li><li class=\"active-result\" id=\"selDUZ_chzn_o_1\" style=\"\">AFC</li><li class=\"active-result\" id=\"selDUZ_chzn_o_2\" style=\"\">CAF</li><li class=\"active-result\" id=\"selDUZ_chzn_o_3\" style=\"\">CONCACAF</li><li class=\"active-result\" id=\"selDUZ_chzn_o_4\" style=\"\">CONMEBOL</li><li class=\"active-result\" id=\"selDUZ_chzn_o_5\" style=\"\">OFC</li><li class=\"active-result result-selected\" id=\"selDUZ_chzn_o_6\" style=\"\">UEFA</li></ul></div></div>\n",
       "</div>\n",
       "</td>\n",
       "</tr>\n",
       "<tr>\n",
       "<td>\n",
       "                                         \n",
       "                                    </td>\n",
       "<td>\n",
       "<input class=\"right small button\" name=\"yt0\" type=\"submit\" value=\"Show\"/> </td>\n",
       "</tr>\n",
       "</tbody>\n",
       "</table>"
      ]
     },
     "execution_count": 41,
     "metadata": {},
     "output_type": "execute_result"
    }
   ],
   "source": [
    "soup.find('table')"
   ]
  },
  {
   "cell_type": "code",
   "execution_count": 42,
   "id": "2316296c",
   "metadata": {},
   "outputs": [],
   "source": [
    "# table = soup.find('table')\n",
    "# tbody = table.find('tbody')\n",
    "# rows = tbody.find_all('tr')"
   ]
  },
  {
   "cell_type": "code",
   "execution_count": 44,
   "id": "2634ebfe",
   "metadata": {},
   "outputs": [],
   "source": [
    "table = soup.find('table', {'class':'items'})"
   ]
  },
  {
   "cell_type": "code",
   "execution_count": 53,
   "id": "3c7dfc4a",
   "metadata": {},
   "outputs": [],
   "source": [
    "rows = table.find('tr')"
   ]
  },
  {
   "cell_type": "code",
   "execution_count": 54,
   "id": "1a4930eb",
   "metadata": {},
   "outputs": [
    {
     "name": "stdout",
     "output_type": "stream",
     "text": [
      "<tr>\n",
      "<th class=\"zentriert\" id=\"yw1_c0\">#</th><th class=\"zentriert no-border-rechts\" id=\"yw1_c1\"></th><th class=\"no-border-links\" id=\"yw1_c2\">Club</th><th class=\"links\" id=\"yw1_c3\">Competition</th><th class=\"rechts\" id=\"yw1_c4\">Market Value</th></tr>\n"
     ]
    }
   ],
   "source": [
    "pprint(rows)"
   ]
  },
  {
   "cell_type": "code",
   "execution_count": 49,
   "id": "fa6cd6f5",
   "metadata": {},
   "outputs": [
    {
     "ename": "IndentationError",
     "evalue": "expected an indented block (962526982.py, line 5)",
     "output_type": "error",
     "traceback": [
      "\u001b[1;36m  Input \u001b[1;32mIn [49]\u001b[1;36m\u001b[0m\n\u001b[1;33m    #     row.\u001b[0m\n\u001b[1;37m              ^\u001b[0m\n\u001b[1;31mIndentationError\u001b[0m\u001b[1;31m:\u001b[0m expected an indented block\n"
     ]
    }
   ],
   "source": [
    "# club = []\n",
    "# competition = []\n",
    "# market_value = []\n",
    "# for row in rows:\n",
    "#     row."
   ]
  },
  {
   "cell_type": "code",
   "execution_count": 72,
   "id": "1691fce1",
   "metadata": {},
   "outputs": [],
   "source": [
    "rows.find('th',{'class':'no-border-links hauptlink'})"
   ]
  },
  {
   "cell_type": "code",
   "execution_count": 66,
   "id": "499d7768",
   "metadata": {},
   "outputs": [],
   "source": [
    "asd = rows.find('a')"
   ]
  },
  {
   "cell_type": "code",
   "execution_count": 67,
   "id": "9a0ec3a0",
   "metadata": {},
   "outputs": [
    {
     "ename": "TypeError",
     "evalue": "'NoneType' object is not subscriptable",
     "output_type": "error",
     "traceback": [
      "\u001b[1;31m---------------------------------------------------------------------------\u001b[0m",
      "\u001b[1;31mTypeError\u001b[0m                                 Traceback (most recent call last)",
      "Input \u001b[1;32mIn [67]\u001b[0m, in \u001b[0;36m<cell line: 1>\u001b[1;34m()\u001b[0m\n\u001b[1;32m----> 1\u001b[0m \u001b[38;5;28mprint\u001b[39m(\u001b[43masd\u001b[49m\u001b[43m[\u001b[49m\u001b[38;5;124;43m'\u001b[39;49m\u001b[38;5;124;43mtitle\u001b[39;49m\u001b[38;5;124;43m'\u001b[39;49m\u001b[43m]\u001b[49m)\n",
      "\u001b[1;31mTypeError\u001b[0m: 'NoneType' object is not subscriptable"
     ]
    }
   ],
   "source": [
    "print(asd['title'])"
   ]
  },
  {
   "cell_type": "code",
   "execution_count": 77,
   "id": "8dad02a9",
   "metadata": {},
   "outputs": [],
   "source": [
    "link = soup.find_all('a')"
   ]
  },
  {
   "cell_type": "code",
   "execution_count": 87,
   "id": "70724347",
   "metadata": {},
   "outputs": [
    {
     "data": {
      "text/plain": [
       "<a class=\"tm-tab\" href=\"/vereins-statistik/wertvollstemannschaften/marktwertetop?kontinent_id=6&amp;land_id=189&amp;plus=1\"><div class=\"\"><span>Detailed</span></div></a>"
      ]
     },
     "execution_count": 87,
     "metadata": {},
     "output_type": "execute_result"
    }
   ],
   "source": [
    "link[16]"
   ]
  },
  {
   "cell_type": "code",
   "execution_count": 93,
   "id": "3e8f2b75",
   "metadata": {},
   "outputs": [],
   "source": [
    "links = soup.find_all('td',{'class':'zentriert no-border-rechts'})"
   ]
  },
  {
   "cell_type": "code",
   "execution_count": 96,
   "id": "8753b065",
   "metadata": {},
   "outputs": [
    {
     "data": {
      "text/plain": [
       "[<td class=\"zentriert no-border-rechts\"><a href=\"/manchester-city/startseite/verein/281/saison_id/2022\" title=\"Manchester City\"><img alt=\"Manchester City\" class=\"tiny_wappen\" src=\"https://tmssl.akamaized.net/images/wappen/tiny/281.png?lm=1467356331\" title=\"Manchester City\"/></a></td>,\n",
       " <td class=\"zentriert no-border-rechts\"><a href=\"/fc-chelsea/startseite/verein/631/saison_id/2022\" title=\"Chelsea FC\"><img alt=\"Chelsea FC\" class=\"tiny_wappen\" src=\"https://tmssl.akamaized.net/images/wappen/tiny/631.png?lm=1628160548\" title=\"Chelsea FC\"/></a></td>,\n",
       " <td class=\"zentriert no-border-rechts\"><a href=\"/fc-arsenal/startseite/verein/11/saison_id/2022\" title=\"Arsenal FC\"><img alt=\"Arsenal FC\" class=\"tiny_wappen\" src=\"https://tmssl.akamaized.net/images/wappen/tiny/11.png?lm=1489787850\" title=\"Arsenal FC\"/></a></td>,\n",
       " <td class=\"zentriert no-border-rechts\"><a href=\"/fc-liverpool/startseite/verein/31/saison_id/2022\" title=\"Liverpool FC\"><img alt=\"Liverpool FC\" class=\"tiny_wappen\" src=\"https://tmssl.akamaized.net/images/wappen/tiny/31.png?lm=1456567819\" title=\"Liverpool FC\"/></a></td>,\n",
       " <td class=\"zentriert no-border-rechts\"><a href=\"/manchester-united/startseite/verein/985/saison_id/2022\" title=\"Manchester United\"><img alt=\"Manchester United\" class=\"tiny_wappen\" src=\"https://tmssl.akamaized.net/images/wappen/tiny/985.png?lm=1457975903\" title=\"Manchester United\"/></a></td>,\n",
       " <td class=\"zentriert no-border-rechts\"><a href=\"/tottenham-hotspur/startseite/verein/148/saison_id/2022\" title=\"Tottenham Hotspur\"><img alt=\"Tottenham Hotspur\" class=\"tiny_wappen\" src=\"https://tmssl.akamaized.net/images/wappen/tiny/148.png?lm=1544345801\" title=\"Tottenham Hotspur\"/></a></td>,\n",
       " <td class=\"zentriert no-border-rechts\"><a href=\"/newcastle-united/startseite/verein/762/saison_id/2022\" title=\"Newcastle United\"><img alt=\"Newcastle United\" class=\"tiny_wappen\" src=\"https://tmssl.akamaized.net/images/wappen/tiny/762.png?lm=1472921161\" title=\"Newcastle United\"/></a></td>,\n",
       " <td class=\"zentriert no-border-rechts\"><a href=\"/west-ham-united/startseite/verein/379/saison_id/2022\" title=\"West Ham United\"><img alt=\"West Ham United\" class=\"tiny_wappen\" src=\"https://tmssl.akamaized.net/images/wappen/tiny/379.png?lm=1464675260\" title=\"West Ham United\"/></a></td>,\n",
       " <td class=\"zentriert no-border-rechts\"><a href=\"/leicester-city/startseite/verein/1003/saison_id/2022\" title=\"Leicester City\"><img alt=\"Leicester City\" class=\"tiny_wappen\" src=\"https://tmssl.akamaized.net/images/wappen/tiny/1003.png?lm=1472229265\" title=\"Leicester City\"/></a></td>,\n",
       " <td class=\"zentriert no-border-rechts\"><a href=\"/aston-villa/startseite/verein/405/saison_id/2022\" title=\"Aston Villa\"><img alt=\"Aston Villa\" class=\"tiny_wappen\" src=\"https://tmssl.akamaized.net/images/wappen/tiny/405.png?lm=1469443765\" title=\"Aston Villa\"/></a></td>,\n",
       " <td class=\"zentriert no-border-rechts\"><a href=\"/wolverhampton-wanderers/startseite/verein/543/saison_id/2022\" title=\"Wolverhampton Wanderers\"><img alt=\"Wolverhampton Wanderers\" class=\"tiny_wappen\" src=\"https://tmssl.akamaized.net/images/wappen/tiny/543.png?lm=1467496784\" title=\"Wolverhampton Wanderers\"/></a></td>,\n",
       " <td class=\"zentriert no-border-rechts\"><a href=\"/fc-southampton/startseite/verein/180/saison_id/2022\" title=\"Southampton FC\"><img alt=\"Southampton FC\" class=\"tiny_wappen\" src=\"https://tmssl.akamaized.net/images/wappen/tiny/180.png?lm=1444560086\" title=\"Southampton FC\"/></a></td>,\n",
       " <td class=\"zentriert no-border-rechts\"><a href=\"/brighton-amp-hove-albion/startseite/verein/1237/saison_id/2022\" title=\"Brighton &amp; Hove Albion\"><img alt=\"Brighton &amp; Hove Albion\" class=\"tiny_wappen\" src=\"https://tmssl.akamaized.net/images/wappen/tiny/1237.png?lm=1492718902\" title=\"Brighton &amp; Hove Albion\"/></a></td>,\n",
       " <td class=\"zentriert no-border-rechts\"><a href=\"/fc-everton/startseite/verein/29/saison_id/2022\" title=\"Everton FC\"><img alt=\"Everton FC\" class=\"tiny_wappen\" src=\"https://tmssl.akamaized.net/images/wappen/tiny/29.png?lm=1445949846\" title=\"Everton FC\"/></a></td>,\n",
       " <td class=\"zentriert no-border-rechts\"><a href=\"/nottingham-forest/startseite/verein/703/saison_id/2022\" title=\"Nottingham Forest\"><img alt=\"Nottingham Forest\" class=\"tiny_wappen\" src=\"https://tmssl.akamaized.net/images/wappen/tiny/703.png?lm=1598890289\" title=\"Nottingham Forest\"/></a></td>,\n",
       " <td class=\"zentriert no-border-rechts\"><a href=\"/fc-brentford/startseite/verein/1148/saison_id/2022\" title=\"Brentford FC\"><img alt=\"Brentford FC\" class=\"tiny_wappen\" src=\"https://tmssl.akamaized.net/images/wappen/tiny/1148.png?lm=1625150543\" title=\"Brentford FC\"/></a></td>,\n",
       " <td class=\"zentriert no-border-rechts\"><a href=\"/leeds-united/startseite/verein/399/saison_id/2022\" title=\"Leeds United\"><img alt=\"Leeds United\" class=\"tiny_wappen\" src=\"https://tmssl.akamaized.net/images/wappen/tiny/399.png?lm=1645652224\" title=\"Leeds United\"/></a></td>,\n",
       " <td class=\"zentriert no-border-rechts\"><a href=\"/crystal-palace/startseite/verein/873/saison_id/2022\" title=\"Crystal Palace\"><img alt=\"Crystal Palace\" class=\"tiny_wappen\" src=\"https://tmssl.akamaized.net/images/wappen/tiny/873.png?lm=1457723287\" title=\"Crystal Palace\"/></a></td>,\n",
       " <td class=\"zentriert no-border-rechts\"><a href=\"/fc-fulham/startseite/verein/931/saison_id/2022\" title=\"Fulham FC\"><img alt=\"Fulham FC\" class=\"tiny_wappen\" src=\"https://tmssl.akamaized.net/images/wappen/tiny/931.png?lm=1556831687\" title=\"Fulham FC\"/></a></td>,\n",
       " <td class=\"zentriert no-border-rechts\"><a href=\"/afc-bournemouth/startseite/verein/989/saison_id/2022\" title=\"AFC Bournemouth\"><img alt=\"AFC Bournemouth\" class=\"tiny_wappen\" src=\"https://tmssl.akamaized.net/images/wappen/tiny/989.png?lm=1457991811\" title=\"AFC Bournemouth\"/></a></td>,\n",
       " <td class=\"zentriert no-border-rechts\"><a href=\"/fc-watford/startseite/verein/1010/saison_id/2022\" title=\"Watford FC\"><img alt=\"Watford FC\" class=\"tiny_wappen\" src=\"https://tmssl.akamaized.net/images/wappen/tiny/1010.png?lm=1468103673\" title=\"Watford FC\"/></a></td>,\n",
       " <td class=\"zentriert no-border-rechts\"><a href=\"/norwich-city/startseite/verein/1123/saison_id/2022\" title=\"Norwich City\"><img alt=\"Norwich City\" class=\"tiny_wappen\" src=\"https://tmssl.akamaized.net/images/wappen/tiny/1123.png?lm=1655469640\" title=\"Norwich City\"/></a></td>,\n",
       " <td class=\"zentriert no-border-rechts\"><a href=\"/fc-burnley/startseite/verein/1132/saison_id/2022\" title=\"Burnley FC\"><img alt=\"Burnley FC\" class=\"tiny_wappen\" src=\"https://tmssl.akamaized.net/images/wappen/tiny/1132.png?lm=1587809239\" title=\"Burnley FC\"/></a></td>,\n",
       " <td class=\"zentriert no-border-rechts\"><a href=\"/sheffield-united/startseite/verein/350/saison_id/2022\" title=\"Sheffield United\"><img alt=\"Sheffield United\" class=\"tiny_wappen\" src=\"https://tmssl.akamaized.net/images/wappen/tiny/350.png?lm=1409254138\" title=\"Sheffield United\"/></a></td>,\n",
       " <td class=\"zentriert no-border-rechts\"><a href=\"/fc-middlesbrough/startseite/verein/641/saison_id/2022\" title=\"Middlesbrough FC\"><img alt=\"Middlesbrough FC\" class=\"tiny_wappen\" src=\"https://tmssl.akamaized.net/images/wappen/tiny/641.png?lm=1443702192\" title=\"Middlesbrough FC\"/></a></td>,\n",
       " <td class=\"zentriert no-border-rechts\" style=\"min-width: 10px; padding: 2px 0 0;\">\n",
       " <a href=\"/rosenborg-bk/transfers/verein/195\" title=\"Rosenborg BK\"><img alt=\"Rosenborg BK\" class=\"\" src=\"https://tmssl.akamaized.net/images/wappen/verysmall/195.png?lm=1522010135\" title=\"Rosenborg BK\"/></a> </td>,\n",
       " <td class=\"zentriert no-border-rechts\" style=\"min-width: 10px; padding: 2px 0 0;\">\n",
       " <a href=\"/wolverhampton-wanderers/transfers/verein/543\" title=\"Wolverhampton Wanderers\"><img alt=\"Wolverhampton Wanderers\" class=\"\" src=\"https://tmssl.akamaized.net/images/wappen/verysmall/543.png?lm=1467496784\" title=\"Wolverhampton Wanderers\"/></a> </td>,\n",
       " <td class=\"zentriert no-border-rechts\" style=\"min-width: 10px; padding: 2px 0 0;\">\n",
       " <a href=\"/kv-kortrijk/transfers/verein/601\" title=\"KV Kortrijk\"><img alt=\"KV Kortrijk\" class=\"\" src=\"https://tmssl.akamaized.net/images/wappen/verysmall/601.png?lm=1534260191\" title=\"KV Kortrijk\"/></a> </td>,\n",
       " <td class=\"zentriert no-border-rechts\" style=\"min-width: 10px; padding: 2px 0 0;\">\n",
       " <a href=\"/atletico-nacional/transfers/verein/8172\" title=\"Atlético Nacional\"><img alt=\"Atlético Nacional\" class=\"\" src=\"https://tmssl.akamaized.net/images/wappen/verysmall/8172.png?lm=1652382300\" title=\"Atlético Nacional\"/></a> </td>,\n",
       " <td class=\"zentriert no-border-rechts\" style=\"min-width: 10px; padding: 2px 0 0;\">\n",
       " <a href=\"/shimizu-s-pulse/transfers/verein/1062\" title=\"Shimizu S-Pulse\"><img alt=\"Shimizu S-Pulse\" class=\"\" src=\"https://tmssl.akamaized.net/images/wappen/verysmall/1062.png?lm=1575994292\" title=\"Shimizu S-Pulse\"/></a> </td>]"
      ]
     },
     "execution_count": 96,
     "metadata": {},
     "output_type": "execute_result"
    }
   ],
   "source": [
    "links"
   ]
  },
  {
   "cell_type": "code",
   "execution_count": 102,
   "id": "87c3a1e0",
   "metadata": {},
   "outputs": [
    {
     "name": "stdout",
     "output_type": "stream",
     "text": [
      "Manchester City\n",
      "Chelsea FC\n",
      "Arsenal FC\n",
      "Liverpool FC\n",
      "Manchester United\n",
      "Tottenham Hotspur\n",
      "Newcastle United\n",
      "West Ham United\n",
      "Leicester City\n",
      "Aston Villa\n",
      "Wolverhampton Wanderers\n",
      "Southampton FC\n",
      "Brighton & Hove Albion\n",
      "Everton FC\n",
      "Nottingham Forest\n",
      "Brentford FC\n",
      "Leeds United\n",
      "Crystal Palace\n",
      "Fulham FC\n",
      "AFC Bournemouth\n"
     ]
    }
   ],
   "source": [
    "for link in links[:20]:\n",
    "    teams = link.find('a')\n",
    "    name = teams['title']\n",
    "    print(name)"
   ]
  },
  {
   "cell_type": "code",
   "execution_count": 103,
   "id": "58d4b0d7",
   "metadata": {},
   "outputs": [],
   "source": [
    "soupleague = soup.find_all('td',{'class':'links'})"
   ]
  },
  {
   "cell_type": "code",
   "execution_count": 105,
   "id": "ba159c07",
   "metadata": {},
   "outputs": [
    {
     "data": {
      "text/plain": [
       "[<td class=\"links\"><img alt=\"England\" class=\"flaggenrahmen\" src=\"https://tmssl.akamaized.net/images/flagge/tiny/189.png?lm=1520611569\" title=\"England\"/> <a href=\"/wettbewerb/startseite/wettbewerb/GB1\" title=\"Premier League\">Premier League</a></td>,\n",
       " <td class=\"links\"><img alt=\"England\" class=\"flaggenrahmen\" src=\"https://tmssl.akamaized.net/images/flagge/tiny/189.png?lm=1520611569\" title=\"England\"/> <a href=\"/wettbewerb/startseite/wettbewerb/GB1\" title=\"Premier League\">Premier League</a></td>,\n",
       " <td class=\"links\"><img alt=\"England\" class=\"flaggenrahmen\" src=\"https://tmssl.akamaized.net/images/flagge/tiny/189.png?lm=1520611569\" title=\"England\"/> <a href=\"/wettbewerb/startseite/wettbewerb/GB1\" title=\"Premier League\">Premier League</a></td>,\n",
       " <td class=\"links\"><img alt=\"England\" class=\"flaggenrahmen\" src=\"https://tmssl.akamaized.net/images/flagge/tiny/189.png?lm=1520611569\" title=\"England\"/> <a href=\"/wettbewerb/startseite/wettbewerb/GB1\" title=\"Premier League\">Premier League</a></td>,\n",
       " <td class=\"links\"><img alt=\"England\" class=\"flaggenrahmen\" src=\"https://tmssl.akamaized.net/images/flagge/tiny/189.png?lm=1520611569\" title=\"England\"/> <a href=\"/wettbewerb/startseite/wettbewerb/GB1\" title=\"Premier League\">Premier League</a></td>,\n",
       " <td class=\"links\"><img alt=\"England\" class=\"flaggenrahmen\" src=\"https://tmssl.akamaized.net/images/flagge/tiny/189.png?lm=1520611569\" title=\"England\"/> <a href=\"/wettbewerb/startseite/wettbewerb/GB1\" title=\"Premier League\">Premier League</a></td>,\n",
       " <td class=\"links\"><img alt=\"England\" class=\"flaggenrahmen\" src=\"https://tmssl.akamaized.net/images/flagge/tiny/189.png?lm=1520611569\" title=\"England\"/> <a href=\"/wettbewerb/startseite/wettbewerb/GB1\" title=\"Premier League\">Premier League</a></td>,\n",
       " <td class=\"links\"><img alt=\"England\" class=\"flaggenrahmen\" src=\"https://tmssl.akamaized.net/images/flagge/tiny/189.png?lm=1520611569\" title=\"England\"/> <a href=\"/wettbewerb/startseite/wettbewerb/GB1\" title=\"Premier League\">Premier League</a></td>,\n",
       " <td class=\"links\"><img alt=\"England\" class=\"flaggenrahmen\" src=\"https://tmssl.akamaized.net/images/flagge/tiny/189.png?lm=1520611569\" title=\"England\"/> <a href=\"/wettbewerb/startseite/wettbewerb/GB1\" title=\"Premier League\">Premier League</a></td>,\n",
       " <td class=\"links\"><img alt=\"England\" class=\"flaggenrahmen\" src=\"https://tmssl.akamaized.net/images/flagge/tiny/189.png?lm=1520611569\" title=\"England\"/> <a href=\"/wettbewerb/startseite/wettbewerb/GB1\" title=\"Premier League\">Premier League</a></td>,\n",
       " <td class=\"links\"><img alt=\"England\" class=\"flaggenrahmen\" src=\"https://tmssl.akamaized.net/images/flagge/tiny/189.png?lm=1520611569\" title=\"England\"/> <a href=\"/wettbewerb/startseite/wettbewerb/GB1\" title=\"Premier League\">Premier League</a></td>,\n",
       " <td class=\"links\"><img alt=\"England\" class=\"flaggenrahmen\" src=\"https://tmssl.akamaized.net/images/flagge/tiny/189.png?lm=1520611569\" title=\"England\"/> <a href=\"/wettbewerb/startseite/wettbewerb/GB1\" title=\"Premier League\">Premier League</a></td>,\n",
       " <td class=\"links\"><img alt=\"England\" class=\"flaggenrahmen\" src=\"https://tmssl.akamaized.net/images/flagge/tiny/189.png?lm=1520611569\" title=\"England\"/> <a href=\"/wettbewerb/startseite/wettbewerb/GB1\" title=\"Premier League\">Premier League</a></td>,\n",
       " <td class=\"links\"><img alt=\"England\" class=\"flaggenrahmen\" src=\"https://tmssl.akamaized.net/images/flagge/tiny/189.png?lm=1520611569\" title=\"England\"/> <a href=\"/wettbewerb/startseite/wettbewerb/GB1\" title=\"Premier League\">Premier League</a></td>,\n",
       " <td class=\"links\"><img alt=\"England\" class=\"flaggenrahmen\" src=\"https://tmssl.akamaized.net/images/flagge/tiny/189.png?lm=1520611569\" title=\"England\"/> <a href=\"/wettbewerb/startseite/wettbewerb/GB1\" title=\"Premier League\">Premier League</a></td>,\n",
       " <td class=\"links\"><img alt=\"England\" class=\"flaggenrahmen\" src=\"https://tmssl.akamaized.net/images/flagge/tiny/189.png?lm=1520611569\" title=\"England\"/> <a href=\"/wettbewerb/startseite/wettbewerb/GB1\" title=\"Premier League\">Premier League</a></td>,\n",
       " <td class=\"links\"><img alt=\"England\" class=\"flaggenrahmen\" src=\"https://tmssl.akamaized.net/images/flagge/tiny/189.png?lm=1520611569\" title=\"England\"/> <a href=\"/wettbewerb/startseite/wettbewerb/GB1\" title=\"Premier League\">Premier League</a></td>,\n",
       " <td class=\"links\"><img alt=\"England\" class=\"flaggenrahmen\" src=\"https://tmssl.akamaized.net/images/flagge/tiny/189.png?lm=1520611569\" title=\"England\"/> <a href=\"/wettbewerb/startseite/wettbewerb/GB1\" title=\"Premier League\">Premier League</a></td>,\n",
       " <td class=\"links\"><img alt=\"England\" class=\"flaggenrahmen\" src=\"https://tmssl.akamaized.net/images/flagge/tiny/189.png?lm=1520611569\" title=\"England\"/> <a href=\"/wettbewerb/startseite/wettbewerb/GB1\" title=\"Premier League\">Premier League</a></td>,\n",
       " <td class=\"links\"><img alt=\"England\" class=\"flaggenrahmen\" src=\"https://tmssl.akamaized.net/images/flagge/tiny/189.png?lm=1520611569\" title=\"England\"/> <a href=\"/wettbewerb/startseite/wettbewerb/GB1\" title=\"Premier League\">Premier League</a></td>,\n",
       " <td class=\"links\"><img alt=\"England\" class=\"flaggenrahmen\" src=\"https://tmssl.akamaized.net/images/flagge/tiny/189.png?lm=1520611569\" title=\"England\"/> <a href=\"/wettbewerb/startseite/wettbewerb/GB2\" title=\"Championship\">Championship</a></td>,\n",
       " <td class=\"links\"><img alt=\"England\" class=\"flaggenrahmen\" src=\"https://tmssl.akamaized.net/images/flagge/tiny/189.png?lm=1520611569\" title=\"England\"/> <a href=\"/wettbewerb/startseite/wettbewerb/GB2\" title=\"Championship\">Championship</a></td>,\n",
       " <td class=\"links\"><img alt=\"England\" class=\"flaggenrahmen\" src=\"https://tmssl.akamaized.net/images/flagge/tiny/189.png?lm=1520611569\" title=\"England\"/> <a href=\"/wettbewerb/startseite/wettbewerb/GB2\" title=\"Championship\">Championship</a></td>,\n",
       " <td class=\"links\"><img alt=\"England\" class=\"flaggenrahmen\" src=\"https://tmssl.akamaized.net/images/flagge/tiny/189.png?lm=1520611569\" title=\"England\"/> <a href=\"/wettbewerb/startseite/wettbewerb/GB2\" title=\"Championship\">Championship</a></td>,\n",
       " <td class=\"links\"><img alt=\"England\" class=\"flaggenrahmen\" src=\"https://tmssl.akamaized.net/images/flagge/tiny/189.png?lm=1520611569\" title=\"England\"/> <a href=\"/wettbewerb/startseite/wettbewerb/GB2\" title=\"Championship\">Championship</a></td>]"
      ]
     },
     "execution_count": 105,
     "metadata": {},
     "output_type": "execute_result"
    }
   ],
   "source": [
    "soupleague"
   ]
  },
  {
   "cell_type": "code",
   "execution_count": 109,
   "id": "8097c647",
   "metadata": {},
   "outputs": [
    {
     "name": "stdout",
     "output_type": "stream",
     "text": [
      "Premier League\n",
      "Premier League\n",
      "Premier League\n",
      "Premier League\n",
      "Premier League\n",
      "Premier League\n",
      "Premier League\n",
      "Premier League\n",
      "Premier League\n",
      "Premier League\n",
      "Premier League\n",
      "Premier League\n",
      "Premier League\n",
      "Premier League\n",
      "Premier League\n",
      "Premier League\n",
      "Premier League\n",
      "Premier League\n",
      "Premier League\n",
      "Premier League\n"
     ]
    }
   ],
   "source": [
    "for league in soupleague[:20]:\n",
    "    leaguename = league.find('a')\n",
    "    print(leaguename['title'])"
   ]
  },
  {
   "cell_type": "code",
   "execution_count": null,
   "id": "7642cdc0",
   "metadata": {},
   "outputs": [],
   "source": []
  }
 ],
 "metadata": {
  "kernelspec": {
   "display_name": "Python 3 (ipykernel)",
   "language": "python",
   "name": "python3"
  },
  "language_info": {
   "codemirror_mode": {
    "name": "ipython",
    "version": 3
   },
   "file_extension": ".py",
   "mimetype": "text/x-python",
   "name": "python",
   "nbconvert_exporter": "python",
   "pygments_lexer": "ipython3",
   "version": "3.9.12"
  }
 },
 "nbformat": 4,
 "nbformat_minor": 5
}
