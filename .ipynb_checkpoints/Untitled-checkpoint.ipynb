{
 "cells": [
  {
   "cell_type": "code",
   "execution_count": 27,
   "id": "cdc00df2",
   "metadata": {},
   "outputs": [],
   "source": [
    "import lxml\n",
    "import pandas as pd\n",
    "from bs4 import BeautifulSoup\n",
    "from splinter import Browser\n",
    "from pprint import pprint"
   ]
  },
  {
   "cell_type": "code",
   "execution_count": 28,
   "id": "e8dc3d53",
   "metadata": {},
   "outputs": [],
   "source": [
    "url = 'https://www.transfermarkt.com/vereins-statistik/wertvollstemannschaften/marktwertetop/plus/0/galerie/0?land_id=189&kontinent_id=6&yt0=Show'"
   ]
  },
  {
   "cell_type": "code",
   "execution_count": 29,
   "id": "8520947d",
   "metadata": {},
   "outputs": [],
   "source": [
    "browser = Browser('chrome', headless = True)"
   ]
  },
  {
   "cell_type": "code",
   "execution_count": 30,
   "id": "6415c203",
   "metadata": {},
   "outputs": [],
   "source": [
    "browser.visit(url)"
   ]
  },
  {
   "cell_type": "code",
   "execution_count": 31,
   "id": "985bdd48",
   "metadata": {},
   "outputs": [],
   "source": [
    "html = browser.html"
   ]
  },
  {
   "cell_type": "code",
   "execution_count": 32,
   "id": "c3d417c6",
   "metadata": {},
   "outputs": [],
   "source": [
    "soup = BeautifulSoup(html, 'html.parser')"
   ]
  },
  {
   "cell_type": "code",
   "execution_count": 7,
   "id": "bed94ab4",
   "metadata": {},
   "outputs": [],
   "source": [
    "# table = soup.find('table')\n",
    "# tbody = table.find('tbody')\n",
    "# rows = tbody.find_all('tr')"
   ]
  },
  {
   "cell_type": "code",
   "execution_count": 8,
   "id": "74d8f475",
   "metadata": {},
   "outputs": [],
   "source": [
    "# table = soup.find('table', {'class':'items'})"
   ]
  },
  {
   "cell_type": "code",
   "execution_count": 9,
   "id": "373f18df",
   "metadata": {},
   "outputs": [],
   "source": [
    "# rows = table.find('tr')"
   ]
  },
  {
   "cell_type": "code",
   "execution_count": 10,
   "id": "183c8ace",
   "metadata": {},
   "outputs": [
    {
     "name": "stdout",
     "output_type": "stream",
     "text": [
      "<tr>\n",
      "<th class=\"zentriert\" id=\"yw1_c0\">#</th><th class=\"zentriert no-border-rechts\" id=\"yw1_c1\"></th><th class=\"no-border-links\" id=\"yw1_c2\">Club</th><th class=\"links\" id=\"yw1_c3\">Competition</th><th class=\"rechts\" id=\"yw1_c4\">Market Value</th></tr>\n"
     ]
    }
   ],
   "source": [
    "# pprint(rows)"
   ]
  },
  {
   "cell_type": "code",
   "execution_count": 11,
   "id": "9596c8b5",
   "metadata": {},
   "outputs": [],
   "source": [
    "# club = []\n",
    "# competition = []\n",
    "# market_value = []\n",
    "# for row in rows:\n",
    "#     row."
   ]
  },
  {
   "cell_type": "code",
   "execution_count": 12,
   "id": "699f692b",
   "metadata": {},
   "outputs": [],
   "source": [
    "# rows.find('th',{'class':'no-border-links hauptlink'})"
   ]
  },
  {
   "cell_type": "code",
   "execution_count": 15,
   "id": "eb5ade39",
   "metadata": {},
   "outputs": [],
   "source": [
    "# link = soup.find_all('a')"
   ]
  },
  {
   "cell_type": "code",
   "execution_count": 16,
   "id": "5e118c57",
   "metadata": {},
   "outputs": [
    {
     "data": {
      "text/plain": [
       "<a class=\"tm-tab\" href=\"/vereins-statistik/wertvollstemannschaften/marktwertetop?kontinent_id=6&amp;land_id=189&amp;plus=1\"><div class=\"\"><span>Detailed</span></div></a>"
      ]
     },
     "execution_count": 16,
     "metadata": {},
     "output_type": "execute_result"
    }
   ],
   "source": [
    "# link[16]"
   ]
  },
  {
   "cell_type": "code",
   "execution_count": 33,
   "id": "dfcad796",
   "metadata": {},
   "outputs": [],
   "source": [
    "links = soup.find_all('td',{'class':'zentriert no-border-rechts'})"
   ]
  },
  {
   "cell_type": "code",
   "execution_count": 34,
   "id": "f3f6af32",
   "metadata": {},
   "outputs": [
    {
     "data": {
      "text/plain": [
       "[<td class=\"zentriert no-border-rechts\"><a href=\"/manchester-city/startseite/verein/281/saison_id/2022\" title=\"Manchester City\"><img alt=\"Manchester City\" class=\"tiny_wappen\" src=\"https://tmssl.akamaized.net/images/wappen/tiny/281.png?lm=1467356331\" title=\"Manchester City\"/></a></td>,\n",
       " <td class=\"zentriert no-border-rechts\"><a href=\"/fc-chelsea/startseite/verein/631/saison_id/2022\" title=\"Chelsea FC\"><img alt=\"Chelsea FC\" class=\"tiny_wappen\" src=\"https://tmssl.akamaized.net/images/wappen/tiny/631.png?lm=1628160548\" title=\"Chelsea FC\"/></a></td>,\n",
       " <td class=\"zentriert no-border-rechts\"><a href=\"/fc-arsenal/startseite/verein/11/saison_id/2022\" title=\"Arsenal FC\"><img alt=\"Arsenal FC\" class=\"tiny_wappen\" src=\"https://tmssl.akamaized.net/images/wappen/tiny/11.png?lm=1489787850\" title=\"Arsenal FC\"/></a></td>,\n",
       " <td class=\"zentriert no-border-rechts\"><a href=\"/fc-liverpool/startseite/verein/31/saison_id/2022\" title=\"Liverpool FC\"><img alt=\"Liverpool FC\" class=\"tiny_wappen\" src=\"https://tmssl.akamaized.net/images/wappen/tiny/31.png?lm=1456567819\" title=\"Liverpool FC\"/></a></td>,\n",
       " <td class=\"zentriert no-border-rechts\"><a href=\"/manchester-united/startseite/verein/985/saison_id/2022\" title=\"Manchester United\"><img alt=\"Manchester United\" class=\"tiny_wappen\" src=\"https://tmssl.akamaized.net/images/wappen/tiny/985.png?lm=1457975903\" title=\"Manchester United\"/></a></td>,\n",
       " <td class=\"zentriert no-border-rechts\"><a href=\"/tottenham-hotspur/startseite/verein/148/saison_id/2022\" title=\"Tottenham Hotspur\"><img alt=\"Tottenham Hotspur\" class=\"tiny_wappen\" src=\"https://tmssl.akamaized.net/images/wappen/tiny/148.png?lm=1544345801\" title=\"Tottenham Hotspur\"/></a></td>,\n",
       " <td class=\"zentriert no-border-rechts\"><a href=\"/newcastle-united/startseite/verein/762/saison_id/2022\" title=\"Newcastle United\"><img alt=\"Newcastle United\" class=\"tiny_wappen\" src=\"https://tmssl.akamaized.net/images/wappen/tiny/762.png?lm=1472921161\" title=\"Newcastle United\"/></a></td>,\n",
       " <td class=\"zentriert no-border-rechts\"><a href=\"/west-ham-united/startseite/verein/379/saison_id/2022\" title=\"West Ham United\"><img alt=\"West Ham United\" class=\"tiny_wappen\" src=\"https://tmssl.akamaized.net/images/wappen/tiny/379.png?lm=1464675260\" title=\"West Ham United\"/></a></td>,\n",
       " <td class=\"zentriert no-border-rechts\"><a href=\"/leicester-city/startseite/verein/1003/saison_id/2022\" title=\"Leicester City\"><img alt=\"Leicester City\" class=\"tiny_wappen\" src=\"https://tmssl.akamaized.net/images/wappen/tiny/1003.png?lm=1472229265\" title=\"Leicester City\"/></a></td>,\n",
       " <td class=\"zentriert no-border-rechts\"><a href=\"/aston-villa/startseite/verein/405/saison_id/2022\" title=\"Aston Villa\"><img alt=\"Aston Villa\" class=\"tiny_wappen\" src=\"https://tmssl.akamaized.net/images/wappen/tiny/405.png?lm=1469443765\" title=\"Aston Villa\"/></a></td>,\n",
       " <td class=\"zentriert no-border-rechts\"><a href=\"/wolverhampton-wanderers/startseite/verein/543/saison_id/2022\" title=\"Wolverhampton Wanderers\"><img alt=\"Wolverhampton Wanderers\" class=\"tiny_wappen\" src=\"https://tmssl.akamaized.net/images/wappen/tiny/543.png?lm=1467496784\" title=\"Wolverhampton Wanderers\"/></a></td>,\n",
       " <td class=\"zentriert no-border-rechts\"><a href=\"/fc-southampton/startseite/verein/180/saison_id/2022\" title=\"Southampton FC\"><img alt=\"Southampton FC\" class=\"tiny_wappen\" src=\"https://tmssl.akamaized.net/images/wappen/tiny/180.png?lm=1444560086\" title=\"Southampton FC\"/></a></td>,\n",
       " <td class=\"zentriert no-border-rechts\"><a href=\"/brighton-amp-hove-albion/startseite/verein/1237/saison_id/2022\" title=\"Brighton &amp; Hove Albion\"><img alt=\"Brighton &amp; Hove Albion\" class=\"tiny_wappen\" src=\"https://tmssl.akamaized.net/images/wappen/tiny/1237.png?lm=1492718902\" title=\"Brighton &amp; Hove Albion\"/></a></td>,\n",
       " <td class=\"zentriert no-border-rechts\"><a href=\"/fc-everton/startseite/verein/29/saison_id/2022\" title=\"Everton FC\"><img alt=\"Everton FC\" class=\"tiny_wappen\" src=\"https://tmssl.akamaized.net/images/wappen/tiny/29.png?lm=1445949846\" title=\"Everton FC\"/></a></td>,\n",
       " <td class=\"zentriert no-border-rechts\"><a href=\"/nottingham-forest/startseite/verein/703/saison_id/2022\" title=\"Nottingham Forest\"><img alt=\"Nottingham Forest\" class=\"tiny_wappen\" src=\"https://tmssl.akamaized.net/images/wappen/tiny/703.png?lm=1598890289\" title=\"Nottingham Forest\"/></a></td>,\n",
       " <td class=\"zentriert no-border-rechts\"><a href=\"/fc-brentford/startseite/verein/1148/saison_id/2022\" title=\"Brentford FC\"><img alt=\"Brentford FC\" class=\"tiny_wappen\" src=\"https://tmssl.akamaized.net/images/wappen/tiny/1148.png?lm=1625150543\" title=\"Brentford FC\"/></a></td>,\n",
       " <td class=\"zentriert no-border-rechts\"><a href=\"/leeds-united/startseite/verein/399/saison_id/2022\" title=\"Leeds United\"><img alt=\"Leeds United\" class=\"tiny_wappen\" src=\"https://tmssl.akamaized.net/images/wappen/tiny/399.png?lm=1645652224\" title=\"Leeds United\"/></a></td>,\n",
       " <td class=\"zentriert no-border-rechts\"><a href=\"/crystal-palace/startseite/verein/873/saison_id/2022\" title=\"Crystal Palace\"><img alt=\"Crystal Palace\" class=\"tiny_wappen\" src=\"https://tmssl.akamaized.net/images/wappen/tiny/873.png?lm=1457723287\" title=\"Crystal Palace\"/></a></td>,\n",
       " <td class=\"zentriert no-border-rechts\"><a href=\"/fc-fulham/startseite/verein/931/saison_id/2022\" title=\"Fulham FC\"><img alt=\"Fulham FC\" class=\"tiny_wappen\" src=\"https://tmssl.akamaized.net/images/wappen/tiny/931.png?lm=1556831687\" title=\"Fulham FC\"/></a></td>,\n",
       " <td class=\"zentriert no-border-rechts\"><a href=\"/afc-bournemouth/startseite/verein/989/saison_id/2022\" title=\"AFC Bournemouth\"><img alt=\"AFC Bournemouth\" class=\"tiny_wappen\" src=\"https://tmssl.akamaized.net/images/wappen/tiny/989.png?lm=1457991811\" title=\"AFC Bournemouth\"/></a></td>,\n",
       " <td class=\"zentriert no-border-rechts\"><a href=\"/fc-watford/startseite/verein/1010/saison_id/2022\" title=\"Watford FC\"><img alt=\"Watford FC\" class=\"tiny_wappen\" src=\"https://tmssl.akamaized.net/images/wappen/tiny/1010.png?lm=1468103673\" title=\"Watford FC\"/></a></td>,\n",
       " <td class=\"zentriert no-border-rechts\"><a href=\"/norwich-city/startseite/verein/1123/saison_id/2022\" title=\"Norwich City\"><img alt=\"Norwich City\" class=\"tiny_wappen\" src=\"https://tmssl.akamaized.net/images/wappen/tiny/1123.png?lm=1655469640\" title=\"Norwich City\"/></a></td>,\n",
       " <td class=\"zentriert no-border-rechts\"><a href=\"/fc-burnley/startseite/verein/1132/saison_id/2022\" title=\"Burnley FC\"><img alt=\"Burnley FC\" class=\"tiny_wappen\" src=\"https://tmssl.akamaized.net/images/wappen/tiny/1132.png?lm=1587809239\" title=\"Burnley FC\"/></a></td>,\n",
       " <td class=\"zentriert no-border-rechts\"><a href=\"/sheffield-united/startseite/verein/350/saison_id/2022\" title=\"Sheffield United\"><img alt=\"Sheffield United\" class=\"tiny_wappen\" src=\"https://tmssl.akamaized.net/images/wappen/tiny/350.png?lm=1409254138\" title=\"Sheffield United\"/></a></td>,\n",
       " <td class=\"zentriert no-border-rechts\"><a href=\"/fc-middlesbrough/startseite/verein/641/saison_id/2022\" title=\"Middlesbrough FC\"><img alt=\"Middlesbrough FC\" class=\"tiny_wappen\" src=\"https://tmssl.akamaized.net/images/wappen/tiny/641.png?lm=1443702192\" title=\"Middlesbrough FC\"/></a></td>,\n",
       " <td class=\"zentriert no-border-rechts\" style=\"min-width: 10px; padding: 2px 0 0;\">\n",
       " <a href=\"/cd-everton/transfers/verein/7020\" title=\"CD Everton\"><img alt=\"CD Everton\" class=\"\" src=\"https://tmssl.akamaized.net/images/wappen/verysmall/7020.png?lm=1456613783\" title=\"CD Everton\"/></a> </td>,\n",
       " <td class=\"zentriert no-border-rechts\" style=\"min-width: 10px; padding: 2px 0 0;\">\n",
       " <a href=\"/vereinslos/transfers/verein/515\" title=\"Without ClubWithout Club\"><img alt=\"Without Club\" class=\"\" src=\"https://tmssl.akamaized.net/images/wappen/verysmall/515.png?lm=1456997255\" title=\"Without Club\"/></a> </td>,\n",
       " <td class=\"zentriert no-border-rechts\" style=\"min-width: 10px; padding: 2px 0 0;\">\n",
       " <a href=\"/rosenborg-bk/transfers/verein/195\" title=\"Rosenborg BK\"><img alt=\"Rosenborg BK\" class=\"\" src=\"https://tmssl.akamaized.net/images/wappen/verysmall/195.png?lm=1522010135\" title=\"Rosenborg BK\"/></a> </td>,\n",
       " <td class=\"zentriert no-border-rechts\" style=\"min-width: 10px; padding: 2px 0 0;\">\n",
       " <a href=\"/wolverhampton-wanderers/transfers/verein/543\" title=\"Wolverhampton Wanderers\"><img alt=\"Wolverhampton Wanderers\" class=\"\" src=\"https://tmssl.akamaized.net/images/wappen/verysmall/543.png?lm=1467496784\" title=\"Wolverhampton Wanderers\"/></a> </td>,\n",
       " <td class=\"zentriert no-border-rechts\" style=\"min-width: 10px; padding: 2px 0 0;\">\n",
       " <a href=\"/kv-kortrijk/transfers/verein/601\" title=\"KV Kortrijk\"><img alt=\"KV Kortrijk\" class=\"\" src=\"https://tmssl.akamaized.net/images/wappen/verysmall/601.png?lm=1534260191\" title=\"KV Kortrijk\"/></a> </td>]"
      ]
     },
     "execution_count": 34,
     "metadata": {},
     "output_type": "execute_result"
    }
   ],
   "source": [
    "links"
   ]
  },
  {
   "cell_type": "code",
   "execution_count": 35,
   "id": "42c0d70e",
   "metadata": {},
   "outputs": [
    {
     "name": "stdout",
     "output_type": "stream",
     "text": [
      "Manchester City\n",
      "Chelsea FC\n",
      "Arsenal FC\n",
      "Liverpool FC\n",
      "Manchester United\n",
      "Tottenham Hotspur\n",
      "Newcastle United\n",
      "West Ham United\n",
      "Leicester City\n",
      "Aston Villa\n",
      "Wolverhampton Wanderers\n",
      "Southampton FC\n",
      "Brighton & Hove Albion\n",
      "Everton FC\n",
      "Nottingham Forest\n",
      "Brentford FC\n",
      "Leeds United\n",
      "Crystal Palace\n",
      "Fulham FC\n",
      "AFC Bournemouth\n"
     ]
    }
   ],
   "source": [
    "for link in links[:20]:\n",
    "    teams = link.find('a')\n",
    "    name = teams['title']\n",
    "    print(name)"
   ]
  },
  {
   "cell_type": "code",
   "execution_count": 36,
   "id": "bd06aeb9",
   "metadata": {},
   "outputs": [],
   "source": [
    "soupleague = soup.find_all('td',{'class':'links'})"
   ]
  },
  {
   "cell_type": "code",
   "execution_count": 37,
   "id": "c78319c4",
   "metadata": {},
   "outputs": [
    {
     "data": {
      "text/plain": [
       "[<td class=\"links\"><img alt=\"England\" class=\"flaggenrahmen\" src=\"https://tmssl.akamaized.net/images/flagge/tiny/189.png?lm=1520611569\" title=\"England\"/> <a href=\"/wettbewerb/startseite/wettbewerb/GB1\" title=\"Premier League\">Premier League</a></td>,\n",
       " <td class=\"links\"><img alt=\"England\" class=\"flaggenrahmen\" src=\"https://tmssl.akamaized.net/images/flagge/tiny/189.png?lm=1520611569\" title=\"England\"/> <a href=\"/wettbewerb/startseite/wettbewerb/GB1\" title=\"Premier League\">Premier League</a></td>,\n",
       " <td class=\"links\"><img alt=\"England\" class=\"flaggenrahmen\" src=\"https://tmssl.akamaized.net/images/flagge/tiny/189.png?lm=1520611569\" title=\"England\"/> <a href=\"/wettbewerb/startseite/wettbewerb/GB1\" title=\"Premier League\">Premier League</a></td>,\n",
       " <td class=\"links\"><img alt=\"England\" class=\"flaggenrahmen\" src=\"https://tmssl.akamaized.net/images/flagge/tiny/189.png?lm=1520611569\" title=\"England\"/> <a href=\"/wettbewerb/startseite/wettbewerb/GB1\" title=\"Premier League\">Premier League</a></td>,\n",
       " <td class=\"links\"><img alt=\"England\" class=\"flaggenrahmen\" src=\"https://tmssl.akamaized.net/images/flagge/tiny/189.png?lm=1520611569\" title=\"England\"/> <a href=\"/wettbewerb/startseite/wettbewerb/GB1\" title=\"Premier League\">Premier League</a></td>,\n",
       " <td class=\"links\"><img alt=\"England\" class=\"flaggenrahmen\" src=\"https://tmssl.akamaized.net/images/flagge/tiny/189.png?lm=1520611569\" title=\"England\"/> <a href=\"/wettbewerb/startseite/wettbewerb/GB1\" title=\"Premier League\">Premier League</a></td>,\n",
       " <td class=\"links\"><img alt=\"England\" class=\"flaggenrahmen\" src=\"https://tmssl.akamaized.net/images/flagge/tiny/189.png?lm=1520611569\" title=\"England\"/> <a href=\"/wettbewerb/startseite/wettbewerb/GB1\" title=\"Premier League\">Premier League</a></td>,\n",
       " <td class=\"links\"><img alt=\"England\" class=\"flaggenrahmen\" src=\"https://tmssl.akamaized.net/images/flagge/tiny/189.png?lm=1520611569\" title=\"England\"/> <a href=\"/wettbewerb/startseite/wettbewerb/GB1\" title=\"Premier League\">Premier League</a></td>,\n",
       " <td class=\"links\"><img alt=\"England\" class=\"flaggenrahmen\" src=\"https://tmssl.akamaized.net/images/flagge/tiny/189.png?lm=1520611569\" title=\"England\"/> <a href=\"/wettbewerb/startseite/wettbewerb/GB1\" title=\"Premier League\">Premier League</a></td>,\n",
       " <td class=\"links\"><img alt=\"England\" class=\"flaggenrahmen\" src=\"https://tmssl.akamaized.net/images/flagge/tiny/189.png?lm=1520611569\" title=\"England\"/> <a href=\"/wettbewerb/startseite/wettbewerb/GB1\" title=\"Premier League\">Premier League</a></td>,\n",
       " <td class=\"links\"><img alt=\"England\" class=\"flaggenrahmen\" src=\"https://tmssl.akamaized.net/images/flagge/tiny/189.png?lm=1520611569\" title=\"England\"/> <a href=\"/wettbewerb/startseite/wettbewerb/GB1\" title=\"Premier League\">Premier League</a></td>,\n",
       " <td class=\"links\"><img alt=\"England\" class=\"flaggenrahmen\" src=\"https://tmssl.akamaized.net/images/flagge/tiny/189.png?lm=1520611569\" title=\"England\"/> <a href=\"/wettbewerb/startseite/wettbewerb/GB1\" title=\"Premier League\">Premier League</a></td>,\n",
       " <td class=\"links\"><img alt=\"England\" class=\"flaggenrahmen\" src=\"https://tmssl.akamaized.net/images/flagge/tiny/189.png?lm=1520611569\" title=\"England\"/> <a href=\"/wettbewerb/startseite/wettbewerb/GB1\" title=\"Premier League\">Premier League</a></td>,\n",
       " <td class=\"links\"><img alt=\"England\" class=\"flaggenrahmen\" src=\"https://tmssl.akamaized.net/images/flagge/tiny/189.png?lm=1520611569\" title=\"England\"/> <a href=\"/wettbewerb/startseite/wettbewerb/GB1\" title=\"Premier League\">Premier League</a></td>,\n",
       " <td class=\"links\"><img alt=\"England\" class=\"flaggenrahmen\" src=\"https://tmssl.akamaized.net/images/flagge/tiny/189.png?lm=1520611569\" title=\"England\"/> <a href=\"/wettbewerb/startseite/wettbewerb/GB1\" title=\"Premier League\">Premier League</a></td>,\n",
       " <td class=\"links\"><img alt=\"England\" class=\"flaggenrahmen\" src=\"https://tmssl.akamaized.net/images/flagge/tiny/189.png?lm=1520611569\" title=\"England\"/> <a href=\"/wettbewerb/startseite/wettbewerb/GB1\" title=\"Premier League\">Premier League</a></td>,\n",
       " <td class=\"links\"><img alt=\"England\" class=\"flaggenrahmen\" src=\"https://tmssl.akamaized.net/images/flagge/tiny/189.png?lm=1520611569\" title=\"England\"/> <a href=\"/wettbewerb/startseite/wettbewerb/GB1\" title=\"Premier League\">Premier League</a></td>,\n",
       " <td class=\"links\"><img alt=\"England\" class=\"flaggenrahmen\" src=\"https://tmssl.akamaized.net/images/flagge/tiny/189.png?lm=1520611569\" title=\"England\"/> <a href=\"/wettbewerb/startseite/wettbewerb/GB1\" title=\"Premier League\">Premier League</a></td>,\n",
       " <td class=\"links\"><img alt=\"England\" class=\"flaggenrahmen\" src=\"https://tmssl.akamaized.net/images/flagge/tiny/189.png?lm=1520611569\" title=\"England\"/> <a href=\"/wettbewerb/startseite/wettbewerb/GB1\" title=\"Premier League\">Premier League</a></td>,\n",
       " <td class=\"links\"><img alt=\"England\" class=\"flaggenrahmen\" src=\"https://tmssl.akamaized.net/images/flagge/tiny/189.png?lm=1520611569\" title=\"England\"/> <a href=\"/wettbewerb/startseite/wettbewerb/GB1\" title=\"Premier League\">Premier League</a></td>,\n",
       " <td class=\"links\"><img alt=\"England\" class=\"flaggenrahmen\" src=\"https://tmssl.akamaized.net/images/flagge/tiny/189.png?lm=1520611569\" title=\"England\"/> <a href=\"/wettbewerb/startseite/wettbewerb/GB2\" title=\"Championship\">Championship</a></td>,\n",
       " <td class=\"links\"><img alt=\"England\" class=\"flaggenrahmen\" src=\"https://tmssl.akamaized.net/images/flagge/tiny/189.png?lm=1520611569\" title=\"England\"/> <a href=\"/wettbewerb/startseite/wettbewerb/GB2\" title=\"Championship\">Championship</a></td>,\n",
       " <td class=\"links\"><img alt=\"England\" class=\"flaggenrahmen\" src=\"https://tmssl.akamaized.net/images/flagge/tiny/189.png?lm=1520611569\" title=\"England\"/> <a href=\"/wettbewerb/startseite/wettbewerb/GB2\" title=\"Championship\">Championship</a></td>,\n",
       " <td class=\"links\"><img alt=\"England\" class=\"flaggenrahmen\" src=\"https://tmssl.akamaized.net/images/flagge/tiny/189.png?lm=1520611569\" title=\"England\"/> <a href=\"/wettbewerb/startseite/wettbewerb/GB2\" title=\"Championship\">Championship</a></td>,\n",
       " <td class=\"links\"><img alt=\"England\" class=\"flaggenrahmen\" src=\"https://tmssl.akamaized.net/images/flagge/tiny/189.png?lm=1520611569\" title=\"England\"/> <a href=\"/wettbewerb/startseite/wettbewerb/GB2\" title=\"Championship\">Championship</a></td>]"
      ]
     },
     "execution_count": 37,
     "metadata": {},
     "output_type": "execute_result"
    }
   ],
   "source": [
    "soupleague"
   ]
  },
  {
   "cell_type": "code",
   "execution_count": 22,
   "id": "8a98c770",
   "metadata": {},
   "outputs": [
    {
     "name": "stdout",
     "output_type": "stream",
     "text": [
      "Premier League\n",
      "Premier League\n",
      "Premier League\n",
      "Premier League\n",
      "Premier League\n",
      "Premier League\n",
      "Premier League\n",
      "Premier League\n",
      "Premier League\n",
      "Premier League\n",
      "Premier League\n",
      "Premier League\n",
      "Premier League\n",
      "Premier League\n",
      "Premier League\n",
      "Premier League\n",
      "Premier League\n",
      "Premier League\n",
      "Premier League\n",
      "Premier League\n"
     ]
    }
   ],
   "source": [
    "for league in soupleague[:20]:\n",
    "    leaguename = league.find('a')\n",
    "    print(leaguename['title'])"
   ]
  },
  {
   "cell_type": "code",
   "execution_count": 23,
   "id": "e99e6516",
   "metadata": {},
   "outputs": [],
   "source": [
    "mv = soup.find_all('td',{'class':'rechts'})"
   ]
  },
  {
   "cell_type": "code",
   "execution_count": 24,
   "id": "b702b8d4",
   "metadata": {},
   "outputs": [
    {
     "name": "stdout",
     "output_type": "stream",
     "text": [
      "€1.05bn\n",
      "€1.02bn\n",
      "€890.00m\n",
      "€879.00m\n",
      "€795.70m\n",
      "€680.30m\n",
      "€494.30m\n",
      "€451.50m\n",
      "€443.10m\n",
      "€437.00m\n",
      "€398.70m\n",
      "€397.00m\n",
      "€358.50m\n",
      "€352.90m\n",
      "€332.65m\n",
      "€318.10m\n",
      "€318.00m\n",
      "€309.95m\n"
     ]
    }
   ],
   "source": [
    "for m in mv[:18]:\n",
    "    marketv = m.find('b')\n",
    "    print(marketv.text)"
   ]
  },
  {
   "cell_type": "markdown",
   "id": "718f0a8a",
   "metadata": {},
   "source": [
    "League Standings: Premier League"
   ]
  },
  {
   "cell_type": "code",
   "execution_count": 40,
   "id": "f22ecd35",
   "metadata": {},
   "outputs": [],
   "source": [
    "table = soup.find('table',{'class':'items'})"
   ]
  },
  {
   "cell_type": "code",
   "execution_count": 41,
   "id": "2d47e6d6",
   "metadata": {},
   "outputs": [
    {
     "data": {
      "text/plain": [
       "<table class=\"items\">\n",
       "<thead>\n",
       "<tr>\n",
       "<th class=\"zentriert\" id=\"yw1_c0\">#</th><th class=\"zentriert no-border-rechts\" id=\"yw1_c1\"></th><th class=\"no-border-links\" id=\"yw1_c2\">Club</th><th class=\"links\" id=\"yw1_c3\">Competition</th><th class=\"rechts\" id=\"yw1_c4\">Market Value</th></tr>\n",
       "</thead>\n",
       "<tbody>\n",
       "<tr class=\"odd\">\n",
       "<td class=\"zentriert\">1</td><td class=\"zentriert no-border-rechts\"><a href=\"/manchester-city/startseite/verein/281/saison_id/2022\" title=\"Manchester City\"><img alt=\"Manchester City\" class=\"tiny_wappen\" src=\"https://tmssl.akamaized.net/images/wappen/tiny/281.png?lm=1467356331\" title=\"Manchester City\"/></a></td><td class=\"no-border-links hauptlink\"><a href=\"/manchester-city/startseite/verein/281\" title=\"Manchester City\">Manchester City</a></td><td class=\"links\"><img alt=\"England\" class=\"flaggenrahmen\" src=\"https://tmssl.akamaized.net/images/flagge/tiny/189.png?lm=1520611569\" title=\"England\"/> <a href=\"/wettbewerb/startseite/wettbewerb/GB1\" title=\"Premier League\">Premier League</a></td><td class=\"rechts\"><b>€1.05bn</b><span class=\"icons_sprite red-arrow-ten\"> </span></td></tr>\n",
       "<tr class=\"even\">\n",
       "<td class=\"zentriert\">2</td><td class=\"zentriert no-border-rechts\"><a href=\"/fc-chelsea/startseite/verein/631/saison_id/2022\" title=\"Chelsea FC\"><img alt=\"Chelsea FC\" class=\"tiny_wappen\" src=\"https://tmssl.akamaized.net/images/wappen/tiny/631.png?lm=1628160548\" title=\"Chelsea FC\"/></a></td><td class=\"no-border-links hauptlink\"><a href=\"/fc-chelsea/startseite/verein/631\" title=\"Chelsea FC\">Chelsea FC</a></td><td class=\"links\"><img alt=\"England\" class=\"flaggenrahmen\" src=\"https://tmssl.akamaized.net/images/flagge/tiny/189.png?lm=1520611569\" title=\"England\"/> <a href=\"/wettbewerb/startseite/wettbewerb/GB1\" title=\"Premier League\">Premier League</a></td><td class=\"rechts\"><b>€1.02bn</b><span class=\"icons_sprite red-arrow-ten\"> </span></td></tr>\n",
       "<tr class=\"odd\">\n",
       "<td class=\"zentriert\">3</td><td class=\"zentriert no-border-rechts\"><a href=\"/fc-arsenal/startseite/verein/11/saison_id/2022\" title=\"Arsenal FC\"><img alt=\"Arsenal FC\" class=\"tiny_wappen\" src=\"https://tmssl.akamaized.net/images/wappen/tiny/11.png?lm=1489787850\" title=\"Arsenal FC\"/></a></td><td class=\"no-border-links hauptlink\"><a href=\"/fc-arsenal/startseite/verein/11\" title=\"Arsenal FC\">Arsenal FC</a></td><td class=\"links\"><img alt=\"England\" class=\"flaggenrahmen\" src=\"https://tmssl.akamaized.net/images/flagge/tiny/189.png?lm=1520611569\" title=\"England\"/> <a href=\"/wettbewerb/startseite/wettbewerb/GB1\" title=\"Premier League\">Premier League</a></td><td class=\"rechts\"><b>€890.00m</b><span class=\"icons_sprite green-arrow-ten\"> </span></td></tr>\n",
       "<tr class=\"even\">\n",
       "<td class=\"zentriert\">4</td><td class=\"zentriert no-border-rechts\"><a href=\"/fc-liverpool/startseite/verein/31/saison_id/2022\" title=\"Liverpool FC\"><img alt=\"Liverpool FC\" class=\"tiny_wappen\" src=\"https://tmssl.akamaized.net/images/wappen/tiny/31.png?lm=1456567819\" title=\"Liverpool FC\"/></a></td><td class=\"no-border-links hauptlink\"><a href=\"/fc-liverpool/startseite/verein/31\" title=\"Liverpool FC\">Liverpool FC</a></td><td class=\"links\"><img alt=\"England\" class=\"flaggenrahmen\" src=\"https://tmssl.akamaized.net/images/flagge/tiny/189.png?lm=1520611569\" title=\"England\"/> <a href=\"/wettbewerb/startseite/wettbewerb/GB1\" title=\"Premier League\">Premier League</a></td><td class=\"rechts\"><b>€879.00m</b><span class=\"icons_sprite red-arrow-ten\"> </span></td></tr>\n",
       "<tr class=\"odd\">\n",
       "<td class=\"zentriert\">5</td><td class=\"zentriert no-border-rechts\"><a href=\"/manchester-united/startseite/verein/985/saison_id/2022\" title=\"Manchester United\"><img alt=\"Manchester United\" class=\"tiny_wappen\" src=\"https://tmssl.akamaized.net/images/wappen/tiny/985.png?lm=1457975903\" title=\"Manchester United\"/></a></td><td class=\"no-border-links hauptlink\"><a href=\"/manchester-united/startseite/verein/985\" title=\"Manchester United\">Manchester United</a></td><td class=\"links\"><img alt=\"England\" class=\"flaggenrahmen\" src=\"https://tmssl.akamaized.net/images/flagge/tiny/189.png?lm=1520611569\" title=\"England\"/> <a href=\"/wettbewerb/startseite/wettbewerb/GB1\" title=\"Premier League\">Premier League</a></td><td class=\"rechts\"><b>€795.70m</b><span class=\"icons_sprite green-arrow-ten\"> </span></td></tr>\n",
       "<tr class=\"even\">\n",
       "<td class=\"zentriert\">6</td><td class=\"zentriert no-border-rechts\"><a href=\"/tottenham-hotspur/startseite/verein/148/saison_id/2022\" title=\"Tottenham Hotspur\"><img alt=\"Tottenham Hotspur\" class=\"tiny_wappen\" src=\"https://tmssl.akamaized.net/images/wappen/tiny/148.png?lm=1544345801\" title=\"Tottenham Hotspur\"/></a></td><td class=\"no-border-links hauptlink\"><a href=\"/tottenham-hotspur/startseite/verein/148\" title=\"Tottenham Hotspur\">Tottenham Hotspur</a></td><td class=\"links\"><img alt=\"England\" class=\"flaggenrahmen\" src=\"https://tmssl.akamaized.net/images/flagge/tiny/189.png?lm=1520611569\" title=\"England\"/> <a href=\"/wettbewerb/startseite/wettbewerb/GB1\" title=\"Premier League\">Premier League</a></td><td class=\"rechts\"><b>€680.30m</b><span class=\"icons_sprite red-arrow-ten\"> </span></td></tr>\n",
       "<tr class=\"odd\">\n",
       "<td class=\"zentriert\">7</td><td class=\"zentriert no-border-rechts\"><a href=\"/newcastle-united/startseite/verein/762/saison_id/2022\" title=\"Newcastle United\"><img alt=\"Newcastle United\" class=\"tiny_wappen\" src=\"https://tmssl.akamaized.net/images/wappen/tiny/762.png?lm=1472921161\" title=\"Newcastle United\"/></a></td><td class=\"no-border-links hauptlink\"><a href=\"/newcastle-united/startseite/verein/762\" title=\"Newcastle United\">Newcastle United</a></td><td class=\"links\"><img alt=\"England\" class=\"flaggenrahmen\" src=\"https://tmssl.akamaized.net/images/flagge/tiny/189.png?lm=1520611569\" title=\"England\"/> <a href=\"/wettbewerb/startseite/wettbewerb/GB1\" title=\"Premier League\">Premier League</a></td><td class=\"rechts\"><b>€494.30m</b><span class=\"icons_sprite green-arrow-ten\"> </span></td></tr>\n",
       "<tr class=\"even\">\n",
       "<td class=\"zentriert\">8</td><td class=\"zentriert no-border-rechts\"><a href=\"/west-ham-united/startseite/verein/379/saison_id/2022\" title=\"West Ham United\"><img alt=\"West Ham United\" class=\"tiny_wappen\" src=\"https://tmssl.akamaized.net/images/wappen/tiny/379.png?lm=1464675260\" title=\"West Ham United\"/></a></td><td class=\"no-border-links hauptlink\"><a href=\"/west-ham-united/startseite/verein/379\" title=\"West Ham United\">West Ham United</a></td><td class=\"links\"><img alt=\"England\" class=\"flaggenrahmen\" src=\"https://tmssl.akamaized.net/images/flagge/tiny/189.png?lm=1520611569\" title=\"England\"/> <a href=\"/wettbewerb/startseite/wettbewerb/GB1\" title=\"Premier League\">Premier League</a></td><td class=\"rechts\"><b>€451.50m</b><span class=\"icons_sprite red-arrow-ten\"> </span></td></tr>\n",
       "<tr class=\"odd\">\n",
       "<td class=\"zentriert\">9</td><td class=\"zentriert no-border-rechts\"><a href=\"/leicester-city/startseite/verein/1003/saison_id/2022\" title=\"Leicester City\"><img alt=\"Leicester City\" class=\"tiny_wappen\" src=\"https://tmssl.akamaized.net/images/wappen/tiny/1003.png?lm=1472229265\" title=\"Leicester City\"/></a></td><td class=\"no-border-links hauptlink\"><a href=\"/leicester-city/startseite/verein/1003\" title=\"Leicester City\">Leicester City</a></td><td class=\"links\"><img alt=\"England\" class=\"flaggenrahmen\" src=\"https://tmssl.akamaized.net/images/flagge/tiny/189.png?lm=1520611569\" title=\"England\"/> <a href=\"/wettbewerb/startseite/wettbewerb/GB1\" title=\"Premier League\">Premier League</a></td><td class=\"rechts\"><b>€443.10m</b><span class=\"icons_sprite green-arrow-ten\"> </span></td></tr>\n",
       "<tr class=\"even\">\n",
       "<td class=\"zentriert\">10</td><td class=\"zentriert no-border-rechts\"><a href=\"/aston-villa/startseite/verein/405/saison_id/2022\" title=\"Aston Villa\"><img alt=\"Aston Villa\" class=\"tiny_wappen\" src=\"https://tmssl.akamaized.net/images/wappen/tiny/405.png?lm=1469443765\" title=\"Aston Villa\"/></a></td><td class=\"no-border-links hauptlink\"><a href=\"/aston-villa/startseite/verein/405\" title=\"Aston Villa\">Aston Villa</a></td><td class=\"links\"><img alt=\"England\" class=\"flaggenrahmen\" src=\"https://tmssl.akamaized.net/images/flagge/tiny/189.png?lm=1520611569\" title=\"England\"/> <a href=\"/wettbewerb/startseite/wettbewerb/GB1\" title=\"Premier League\">Premier League</a></td><td class=\"rechts\"><b>€437.00m</b><span class=\"icons_sprite red-arrow-ten\"> </span></td></tr>\n",
       "<tr class=\"odd\">\n",
       "<td class=\"zentriert\">11</td><td class=\"zentriert no-border-rechts\"><a href=\"/wolverhampton-wanderers/startseite/verein/543/saison_id/2022\" title=\"Wolverhampton Wanderers\"><img alt=\"Wolverhampton Wanderers\" class=\"tiny_wappen\" src=\"https://tmssl.akamaized.net/images/wappen/tiny/543.png?lm=1467496784\" title=\"Wolverhampton Wanderers\"/></a></td><td class=\"no-border-links hauptlink\"><a href=\"/wolverhampton-wanderers/startseite/verein/543\" title=\"Wolverhampton Wanderers\">Wolverhampton Wanderers</a></td><td class=\"links\"><img alt=\"England\" class=\"flaggenrahmen\" src=\"https://tmssl.akamaized.net/images/flagge/tiny/189.png?lm=1520611569\" title=\"England\"/> <a href=\"/wettbewerb/startseite/wettbewerb/GB1\" title=\"Premier League\">Premier League</a></td><td class=\"rechts\"><b>€398.70m</b><span class=\"icons_sprite green-arrow-ten\"> </span></td></tr>\n",
       "<tr class=\"even\">\n",
       "<td class=\"zentriert\">12</td><td class=\"zentriert no-border-rechts\"><a href=\"/fc-southampton/startseite/verein/180/saison_id/2022\" title=\"Southampton FC\"><img alt=\"Southampton FC\" class=\"tiny_wappen\" src=\"https://tmssl.akamaized.net/images/wappen/tiny/180.png?lm=1444560086\" title=\"Southampton FC\"/></a></td><td class=\"no-border-links hauptlink\"><a href=\"/fc-southampton/startseite/verein/180\" title=\"Southampton FC\">Southampton FC</a></td><td class=\"links\"><img alt=\"England\" class=\"flaggenrahmen\" src=\"https://tmssl.akamaized.net/images/flagge/tiny/189.png?lm=1520611569\" title=\"England\"/> <a href=\"/wettbewerb/startseite/wettbewerb/GB1\" title=\"Premier League\">Premier League</a></td><td class=\"rechts\"><b>€397.00m</b><span class=\"icons_sprite green-arrow-ten\"> </span></td></tr>\n",
       "<tr class=\"odd\">\n",
       "<td class=\"zentriert\">13</td><td class=\"zentriert no-border-rechts\"><a href=\"/brighton-amp-hove-albion/startseite/verein/1237/saison_id/2022\" title=\"Brighton &amp; Hove Albion\"><img alt=\"Brighton &amp; Hove Albion\" class=\"tiny_wappen\" src=\"https://tmssl.akamaized.net/images/wappen/tiny/1237.png?lm=1492718902\" title=\"Brighton &amp; Hove Albion\"/></a></td><td class=\"no-border-links hauptlink\"><a href=\"/brighton-amp-hove-albion/startseite/verein/1237\" title=\"Brighton &amp; Hove Albion\">Brighton &amp; Hove Albion</a></td><td class=\"links\"><img alt=\"England\" class=\"flaggenrahmen\" src=\"https://tmssl.akamaized.net/images/flagge/tiny/189.png?lm=1520611569\" title=\"England\"/> <a href=\"/wettbewerb/startseite/wettbewerb/GB1\" title=\"Premier League\">Premier League</a></td><td class=\"rechts\"><b>€358.50m</b><span class=\"icons_sprite green-arrow-ten\"> </span></td></tr>\n",
       "<tr class=\"even\">\n",
       "<td class=\"zentriert\">14</td><td class=\"zentriert no-border-rechts\"><a href=\"/fc-everton/startseite/verein/29/saison_id/2022\" title=\"Everton FC\"><img alt=\"Everton FC\" class=\"tiny_wappen\" src=\"https://tmssl.akamaized.net/images/wappen/tiny/29.png?lm=1445949846\" title=\"Everton FC\"/></a></td><td class=\"no-border-links hauptlink\"><a href=\"/fc-everton/startseite/verein/29\" title=\"Everton FC\">Everton FC</a></td><td class=\"links\"><img alt=\"England\" class=\"flaggenrahmen\" src=\"https://tmssl.akamaized.net/images/flagge/tiny/189.png?lm=1520611569\" title=\"England\"/> <a href=\"/wettbewerb/startseite/wettbewerb/GB1\" title=\"Premier League\">Premier League</a></td><td class=\"rechts\"><b>€352.90m</b><span class=\"icons_sprite red-arrow-ten\"> </span></td></tr>\n",
       "<tr class=\"odd\">\n",
       "<td class=\"zentriert\">15</td><td class=\"zentriert no-border-rechts\"><a href=\"/nottingham-forest/startseite/verein/703/saison_id/2022\" title=\"Nottingham Forest\"><img alt=\"Nottingham Forest\" class=\"tiny_wappen\" src=\"https://tmssl.akamaized.net/images/wappen/tiny/703.png?lm=1598890289\" title=\"Nottingham Forest\"/></a></td><td class=\"no-border-links hauptlink\"><a href=\"/nottingham-forest/startseite/verein/703\" title=\"Nottingham Forest\">Nottingham Forest</a></td><td class=\"links\"><img alt=\"England\" class=\"flaggenrahmen\" src=\"https://tmssl.akamaized.net/images/flagge/tiny/189.png?lm=1520611569\" title=\"England\"/> <a href=\"/wettbewerb/startseite/wettbewerb/GB1\" title=\"Premier League\">Premier League</a></td><td class=\"rechts\"><b>€332.65m</b><span class=\"icons_sprite green-arrow-ten\"> </span></td></tr>\n",
       "<tr class=\"even\">\n",
       "<td class=\"zentriert\">16</td><td class=\"zentriert no-border-rechts\"><a href=\"/fc-brentford/startseite/verein/1148/saison_id/2022\" title=\"Brentford FC\"><img alt=\"Brentford FC\" class=\"tiny_wappen\" src=\"https://tmssl.akamaized.net/images/wappen/tiny/1148.png?lm=1625150543\" title=\"Brentford FC\"/></a></td><td class=\"no-border-links hauptlink\"><a href=\"/fc-brentford/startseite/verein/1148\" title=\"Brentford FC\">Brentford FC</a></td><td class=\"links\"><img alt=\"England\" class=\"flaggenrahmen\" src=\"https://tmssl.akamaized.net/images/flagge/tiny/189.png?lm=1520611569\" title=\"England\"/> <a href=\"/wettbewerb/startseite/wettbewerb/GB1\" title=\"Premier League\">Premier League</a></td><td class=\"rechts\"><b>€318.10m</b><span class=\"icons_sprite red-arrow-ten\"> </span></td></tr>\n",
       "<tr class=\"odd\">\n",
       "<td class=\"zentriert\">17</td><td class=\"zentriert no-border-rechts\"><a href=\"/leeds-united/startseite/verein/399/saison_id/2022\" title=\"Leeds United\"><img alt=\"Leeds United\" class=\"tiny_wappen\" src=\"https://tmssl.akamaized.net/images/wappen/tiny/399.png?lm=1645652224\" title=\"Leeds United\"/></a></td><td class=\"no-border-links hauptlink\"><a href=\"/leeds-united/startseite/verein/399\" title=\"Leeds United\">Leeds United</a></td><td class=\"links\"><img alt=\"England\" class=\"flaggenrahmen\" src=\"https://tmssl.akamaized.net/images/flagge/tiny/189.png?lm=1520611569\" title=\"England\"/> <a href=\"/wettbewerb/startseite/wettbewerb/GB1\" title=\"Premier League\">Premier League</a></td><td class=\"rechts\"><b>€318.00m</b><span class=\"icons_sprite green-arrow-ten\"> </span></td></tr>\n",
       "<tr class=\"even\">\n",
       "<td class=\"zentriert\">18</td><td class=\"zentriert no-border-rechts\"><a href=\"/crystal-palace/startseite/verein/873/saison_id/2022\" title=\"Crystal Palace\"><img alt=\"Crystal Palace\" class=\"tiny_wappen\" src=\"https://tmssl.akamaized.net/images/wappen/tiny/873.png?lm=1457723287\" title=\"Crystal Palace\"/></a></td><td class=\"no-border-links hauptlink\"><a href=\"/crystal-palace/startseite/verein/873\" title=\"Crystal Palace\">Crystal Palace</a></td><td class=\"links\"><img alt=\"England\" class=\"flaggenrahmen\" src=\"https://tmssl.akamaized.net/images/flagge/tiny/189.png?lm=1520611569\" title=\"England\"/> <a href=\"/wettbewerb/startseite/wettbewerb/GB1\" title=\"Premier League\">Premier League</a></td><td class=\"rechts\"><b>€309.95m</b><span class=\"icons_sprite green-arrow-ten\"> </span></td></tr>\n",
       "<tr class=\"odd\">\n",
       "<td class=\"zentriert\">19</td><td class=\"zentriert no-border-rechts\"><a href=\"/fc-fulham/startseite/verein/931/saison_id/2022\" title=\"Fulham FC\"><img alt=\"Fulham FC\" class=\"tiny_wappen\" src=\"https://tmssl.akamaized.net/images/wappen/tiny/931.png?lm=1556831687\" title=\"Fulham FC\"/></a></td><td class=\"no-border-links hauptlink\"><a href=\"/fc-fulham/startseite/verein/931\" title=\"Fulham FC\">Fulham FC</a></td><td class=\"links\"><img alt=\"England\" class=\"flaggenrahmen\" src=\"https://tmssl.akamaized.net/images/flagge/tiny/189.png?lm=1520611569\" title=\"England\"/> <a href=\"/wettbewerb/startseite/wettbewerb/GB1\" title=\"Premier League\">Premier League</a></td><td class=\"rechts\"><b>€253.50m</b><span class=\"icons_sprite green-arrow-ten\"> </span></td></tr>\n",
       "<tr class=\"even\">\n",
       "<td class=\"zentriert\">20</td><td class=\"zentriert no-border-rechts\"><a href=\"/afc-bournemouth/startseite/verein/989/saison_id/2022\" title=\"AFC Bournemouth\"><img alt=\"AFC Bournemouth\" class=\"tiny_wappen\" src=\"https://tmssl.akamaized.net/images/wappen/tiny/989.png?lm=1457991811\" title=\"AFC Bournemouth\"/></a></td><td class=\"no-border-links hauptlink\"><a href=\"/afc-bournemouth/startseite/verein/989\" title=\"AFC Bournemouth\">AFC Bournemouth</a></td><td class=\"links\"><img alt=\"England\" class=\"flaggenrahmen\" src=\"https://tmssl.akamaized.net/images/flagge/tiny/189.png?lm=1520611569\" title=\"England\"/> <a href=\"/wettbewerb/startseite/wettbewerb/GB1\" title=\"Premier League\">Premier League</a></td><td class=\"rechts\"><b>€243.70m</b><span class=\"icons_sprite green-arrow-ten\"> </span></td></tr>\n",
       "<tr class=\"odd\">\n",
       "<td class=\"zentriert\">21</td><td class=\"zentriert no-border-rechts\"><a href=\"/fc-watford/startseite/verein/1010/saison_id/2022\" title=\"Watford FC\"><img alt=\"Watford FC\" class=\"tiny_wappen\" src=\"https://tmssl.akamaized.net/images/wappen/tiny/1010.png?lm=1468103673\" title=\"Watford FC\"/></a></td><td class=\"no-border-links hauptlink\"><a href=\"/fc-watford/startseite/verein/1010\" title=\"Watford FC\">Watford FC</a></td><td class=\"links\"><img alt=\"England\" class=\"flaggenrahmen\" src=\"https://tmssl.akamaized.net/images/flagge/tiny/189.png?lm=1520611569\" title=\"England\"/> <a href=\"/wettbewerb/startseite/wettbewerb/GB2\" title=\"Championship\">Championship</a></td><td class=\"rechts\"><b>€125.55m</b><span class=\"icons_sprite red-arrow-ten\"> </span></td></tr>\n",
       "<tr class=\"even\">\n",
       "<td class=\"zentriert\">22</td><td class=\"zentriert no-border-rechts\"><a href=\"/norwich-city/startseite/verein/1123/saison_id/2022\" title=\"Norwich City\"><img alt=\"Norwich City\" class=\"tiny_wappen\" src=\"https://tmssl.akamaized.net/images/wappen/tiny/1123.png?lm=1655469640\" title=\"Norwich City\"/></a></td><td class=\"no-border-links hauptlink\"><a href=\"/norwich-city/startseite/verein/1123\" title=\"Norwich City\">Norwich City</a></td><td class=\"links\"><img alt=\"England\" class=\"flaggenrahmen\" src=\"https://tmssl.akamaized.net/images/flagge/tiny/189.png?lm=1520611569\" title=\"England\"/> <a href=\"/wettbewerb/startseite/wettbewerb/GB2\" title=\"Championship\">Championship</a></td><td class=\"rechts\"><b>€101.35m</b><span class=\"icons_sprite green-arrow-ten\"> </span></td></tr>\n",
       "<tr class=\"odd\">\n",
       "<td class=\"zentriert\">23</td><td class=\"zentriert no-border-rechts\"><a href=\"/fc-burnley/startseite/verein/1132/saison_id/2022\" title=\"Burnley FC\"><img alt=\"Burnley FC\" class=\"tiny_wappen\" src=\"https://tmssl.akamaized.net/images/wappen/tiny/1132.png?lm=1587809239\" title=\"Burnley FC\"/></a></td><td class=\"no-border-links hauptlink\"><a href=\"/fc-burnley/startseite/verein/1132\" title=\"Burnley FC\">Burnley FC</a></td><td class=\"links\"><img alt=\"England\" class=\"flaggenrahmen\" src=\"https://tmssl.akamaized.net/images/flagge/tiny/189.png?lm=1520611569\" title=\"England\"/> <a href=\"/wettbewerb/startseite/wettbewerb/GB2\" title=\"Championship\">Championship</a></td><td class=\"rechts\"><b>€96.55m</b><span class=\"icons_sprite green-arrow-ten\"> </span></td></tr>\n",
       "<tr class=\"even\">\n",
       "<td class=\"zentriert\">24</td><td class=\"zentriert no-border-rechts\"><a href=\"/sheffield-united/startseite/verein/350/saison_id/2022\" title=\"Sheffield United\"><img alt=\"Sheffield United\" class=\"tiny_wappen\" src=\"https://tmssl.akamaized.net/images/wappen/tiny/350.png?lm=1409254138\" title=\"Sheffield United\"/></a></td><td class=\"no-border-links hauptlink\"><a href=\"/sheffield-united/startseite/verein/350\" title=\"Sheffield United\">Sheffield United</a></td><td class=\"links\"><img alt=\"England\" class=\"flaggenrahmen\" src=\"https://tmssl.akamaized.net/images/flagge/tiny/189.png?lm=1520611569\" title=\"England\"/> <a href=\"/wettbewerb/startseite/wettbewerb/GB2\" title=\"Championship\">Championship</a></td><td class=\"rechts\"><b>€86.45m</b><span class=\"icons_sprite red-arrow-ten\"> </span></td></tr>\n",
       "<tr class=\"odd\">\n",
       "<td class=\"zentriert\">25</td><td class=\"zentriert no-border-rechts\"><a href=\"/fc-middlesbrough/startseite/verein/641/saison_id/2022\" title=\"Middlesbrough FC\"><img alt=\"Middlesbrough FC\" class=\"tiny_wappen\" src=\"https://tmssl.akamaized.net/images/wappen/tiny/641.png?lm=1443702192\" title=\"Middlesbrough FC\"/></a></td><td class=\"no-border-links hauptlink\"><a href=\"/fc-middlesbrough/startseite/verein/641\" title=\"Middlesbrough FC\">Middlesbrough FC</a></td><td class=\"links\"><img alt=\"England\" class=\"flaggenrahmen\" src=\"https://tmssl.akamaized.net/images/flagge/tiny/189.png?lm=1520611569\" title=\"England\"/> <a href=\"/wettbewerb/startseite/wettbewerb/GB2\" title=\"Championship\">Championship</a></td><td class=\"rechts\"><b>€69.60m</b><span class=\"icons_sprite red-arrow-ten\"> </span></td></tr>\n",
       "</tbody>\n",
       "</table>"
      ]
     },
     "execution_count": 41,
     "metadata": {},
     "output_type": "execute_result"
    }
   ],
   "source": [
    "table"
   ]
  },
  {
   "cell_type": "code",
   "execution_count": 44,
   "id": "35f49e89",
   "metadata": {},
   "outputs": [],
   "source": [
    "table_details = table.find('tbody').find_all('tr')"
   ]
  },
  {
   "cell_type": "code",
   "execution_count": 53,
   "id": "e8df70d0",
   "metadata": {},
   "outputs": [],
   "source": [
    "first = table_details[0]"
   ]
  },
  {
   "cell_type": "code",
   "execution_count": 55,
   "id": "7426357d",
   "metadata": {},
   "outputs": [
    {
     "data": {
      "text/plain": [
       "<tr class=\"odd\">\n",
       "<td class=\"zentriert\">1</td><td class=\"zentriert no-border-rechts\"><a href=\"/manchester-city/startseite/verein/281/saison_id/2022\" title=\"Manchester City\"><img alt=\"Manchester City\" class=\"tiny_wappen\" src=\"https://tmssl.akamaized.net/images/wappen/tiny/281.png?lm=1467356331\" title=\"Manchester City\"/></a></td><td class=\"no-border-links hauptlink\"><a href=\"/manchester-city/startseite/verein/281\" title=\"Manchester City\">Manchester City</a></td><td class=\"links\"><img alt=\"England\" class=\"flaggenrahmen\" src=\"https://tmssl.akamaized.net/images/flagge/tiny/189.png?lm=1520611569\" title=\"England\"/> <a href=\"/wettbewerb/startseite/wettbewerb/GB1\" title=\"Premier League\">Premier League</a></td><td class=\"rechts\"><b>€1.05bn</b><span class=\"icons_sprite red-arrow-ten\"> </span></td></tr>"
      ]
     },
     "execution_count": 55,
     "metadata": {},
     "output_type": "execute_result"
    }
   ],
   "source": [
    "first"
   ]
  },
  {
   "cell_type": "code",
   "execution_count": 62,
   "id": "4a917c0e",
   "metadata": {},
   "outputs": [],
   "source": [
    "asdfg = first.find_all('img')"
   ]
  },
  {
   "cell_type": "code",
   "execution_count": 69,
   "id": "d171f695",
   "metadata": {},
   "outputs": [
    {
     "data": {
      "text/plain": [
       "[<img alt=\"Manchester City\" class=\"tiny_wappen\" src=\"https://tmssl.akamaized.net/images/wappen/tiny/281.png?lm=1467356331\" title=\"Manchester City\"/>,\n",
       " <img alt=\"England\" class=\"flaggenrahmen\" src=\"https://tmssl.akamaized.net/images/flagge/tiny/189.png?lm=1520611569\" title=\"England\"/>]"
      ]
     },
     "execution_count": 69,
     "metadata": {},
     "output_type": "execute_result"
    }
   ],
   "source": [
    "asdfg"
   ]
  },
  {
   "cell_type": "code",
   "execution_count": 64,
   "id": "dbd78fa7",
   "metadata": {},
   "outputs": [
    {
     "name": "stdout",
     "output_type": "stream",
     "text": [
      "Manchester City\n",
      "England\n"
     ]
    }
   ],
   "source": [
    "for a in asdfg:\n",
    "    print(a['title'])"
   ]
  },
  {
   "cell_type": "code",
   "execution_count": 57,
   "id": "c14c1a27",
   "metadata": {},
   "outputs": [],
   "source": [
    "team_name = first.find_all('a')"
   ]
  },
  {
   "cell_type": "code",
   "execution_count": 61,
   "id": "b1bea6f0",
   "metadata": {},
   "outputs": [
    {
     "name": "stdout",
     "output_type": "stream",
     "text": [
      "Manchester City\n",
      "Manchester City\n",
      "Premier League\n"
     ]
    }
   ],
   "source": [
    "for asdf in team_name:\n",
    "    print(asdf['title'])"
   ]
  },
  {
   "cell_type": "code",
   "execution_count": 76,
   "id": "2d0bbddf",
   "metadata": {},
   "outputs": [],
   "source": [
    "team_names = []\n",
    "country = []\n",
    "league_name = []\n",
    "\n",
    "for table in table_details:\n",
    "    hi = table.find_all('img')\n",
    "    for h in hi:\n",
    "        name = hi[0]\n",
    "        team = name['title']\n",
    "        team_names.append(team)"
   ]
  },
  {
   "cell_type": "code",
   "execution_count": 77,
   "id": "ef89bdfe",
   "metadata": {},
   "outputs": [
    {
     "data": {
      "text/plain": [
       "['Manchester City',\n",
       " 'Manchester City',\n",
       " 'Chelsea FC',\n",
       " 'Chelsea FC',\n",
       " 'Arsenal FC',\n",
       " 'Arsenal FC',\n",
       " 'Liverpool FC',\n",
       " 'Liverpool FC',\n",
       " 'Manchester United',\n",
       " 'Manchester United',\n",
       " 'Tottenham Hotspur',\n",
       " 'Tottenham Hotspur',\n",
       " 'Newcastle United',\n",
       " 'Newcastle United',\n",
       " 'West Ham United',\n",
       " 'West Ham United',\n",
       " 'Leicester City',\n",
       " 'Leicester City',\n",
       " 'Aston Villa',\n",
       " 'Aston Villa',\n",
       " 'Wolverhampton Wanderers',\n",
       " 'Wolverhampton Wanderers',\n",
       " 'Southampton FC',\n",
       " 'Southampton FC',\n",
       " 'Brighton & Hove Albion',\n",
       " 'Brighton & Hove Albion',\n",
       " 'Everton FC',\n",
       " 'Everton FC',\n",
       " 'Nottingham Forest',\n",
       " 'Nottingham Forest',\n",
       " 'Brentford FC',\n",
       " 'Brentford FC',\n",
       " 'Leeds United',\n",
       " 'Leeds United',\n",
       " 'Crystal Palace',\n",
       " 'Crystal Palace',\n",
       " 'Fulham FC',\n",
       " 'Fulham FC',\n",
       " 'AFC Bournemouth',\n",
       " 'AFC Bournemouth',\n",
       " 'Watford FC',\n",
       " 'Watford FC',\n",
       " 'Norwich City',\n",
       " 'Norwich City',\n",
       " 'Burnley FC',\n",
       " 'Burnley FC',\n",
       " 'Sheffield United',\n",
       " 'Sheffield United',\n",
       " 'Middlesbrough FC',\n",
       " 'Middlesbrough FC']"
      ]
     },
     "execution_count": 77,
     "metadata": {},
     "output_type": "execute_result"
    }
   ],
   "source": [
    "team_names"
   ]
  },
  {
   "cell_type": "code",
   "execution_count": null,
   "id": "a9823224",
   "metadata": {},
   "outputs": [],
   "source": []
  }
 ],
 "metadata": {
  "kernelspec": {
   "display_name": "Python 3 (ipykernel)",
   "language": "python",
   "name": "python3"
  },
  "language_info": {
   "codemirror_mode": {
    "name": "ipython",
    "version": 3
   },
   "file_extension": ".py",
   "mimetype": "text/x-python",
   "name": "python",
   "nbconvert_exporter": "python",
   "pygments_lexer": "ipython3",
   "version": "3.9.12"
  }
 },
 "nbformat": 4,
 "nbformat_minor": 5
}
